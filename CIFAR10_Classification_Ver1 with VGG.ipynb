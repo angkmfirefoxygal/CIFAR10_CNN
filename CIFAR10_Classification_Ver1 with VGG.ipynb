CIFAR 10 / epoch = 10, VGG model, augmentation : horizontal flip, crop

{
  "nbformat": 4,
  "nbformat_minor": 0,
  "metadata": {
    "colab": {
      "provenance": [],
      "gpuType": "T4",
      "mount_file_id": "1sNJcIdR6diz-SSdQbF7WaFpYwqye9sfq",
      "authorship_tag": "ABX9TyO336s0yqHmzx06foPYCaU2",
      "include_colab_link": true
    },
    "kernelspec": {
      "name": "python3",
      "display_name": "Python 3"
    },
    "language_info": {
      "name": "python"
    },
    "accelerator": "GPU"
  },
  "cells": [
    {
      "cell_type": "markdown",
      "metadata": {
        "id": "view-in-github",
        "colab_type": "text"
      },
      "source": [
        "<a href=\"https://colab.research.google.com/github/angkmfirefoxygal/CIFAR10_CNN/blob/main/CIFAR10_Classification_Ver1%20with%20VGG.ipynb\" target=\"_parent\"><img src=\"https://colab.research.google.com/assets/colab-badge.svg\" alt=\"Open In Colab\"/></a>"
      ]
    },
    {
      "cell_type": "code",
      "execution_count": 1,
      "metadata": {
        "id": "D_7X2HkapJqj"
      },
      "outputs": [],
      "source": [
        "# AS usual, a bit of setup\n",
        "# If you need other libraries, you should import the libraries.\n",
        "\n",
        "import os, sys\n",
        "import torch\n",
        "from torch import nn\n",
        "from torch.nn import functional as F\n",
        "\n",
        "import torchvision\n",
        "import torchvision.transforms as transforms\n",
        "import torchvision.datasets as datasets\n",
        "\n",
        "from torchvision.datasets import ImageFolder\n",
        "from torch.utils.data import DataLoader\n",
        "\n",
        "import matplotlib.pyplot as plt\n",
        "import numpy as np"
      ]
    },
    {
      "cell_type": "code",
      "source": [
        "# Set the device\n",
        "device = 'cuda' if torch.cuda.is_available() else 'cpu'\n",
        "print(device)"
      ],
      "metadata": {
        "colab": {
          "base_uri": "https://localhost:8080/"
        },
        "id": "ME905RDNpgq7",
        "outputId": "0c6e302f-3ab0-4cd6-eb35-2ac38b200f0d"
      },
      "execution_count": 2,
      "outputs": [
        {
          "output_type": "stream",
          "name": "stdout",
          "text": [
            "cuda\n"
          ]
        }
      ]
    },
    {
      "cell_type": "code",
      "source": [
        "# Data transforms (normalization & data augmentation)\n",
        "stats = ((0.4914, 0.4822, 0.4465), (0.2023, 0.1994, 0.2010))\n",
        "\n",
        "transforms_cifar10 = transforms.Compose([transforms.RandomCrop(32, padding=4, padding_mode='reflect'),\n",
        "                                        transforms.RandomHorizontalFlip(),\n",
        "                                        transforms.ToTensor(),\n",
        "                                        transforms.Normalize(*stats, inplace=True)])\n",
        "\n",
        "\n",
        "\n",
        "\n",
        "transforms_cifar10_test = transforms.Compose([transforms.Resize((32, 32)),\n",
        "                                  transforms.ToTensor(),\n",
        "                                  transforms.Normalize(*stats)])\n"
      ],
      "metadata": {
        "id": "5UR-4iCAp0PW"
      },
      "execution_count": 3,
      "outputs": []
    },
    {
      "cell_type": "code",
      "source": [
        "# Train dataset\n",
        "trainset = datasets.CIFAR10(root='./data', train=True, download=True, transform=transforms_cifar10)\n",
        "trainloader = torch.utils.data.DataLoader(trainset, batch_size=4, shuffle=True, num_workers=2)\n",
        "\n",
        "# Test dataset\n",
        "testset = datasets.CIFAR10(root='./data', train=False, download=True, transform=transforms_cifar10_test)\n",
        "testloader = torch.utils.data.DataLoader(testset, batch_size=4, shuffle=False, num_workers=2)\n",
        "\n",
        "# Classes of CIFAR-10 dataset\n",
        "classes = (\"plane\", \"car\", \"bird\", \"cat\", \"deer\", \"dog\", \"frog\", \"horse\", \"ship\", \"truck\")"
      ],
      "metadata": {
        "id": "Ng5woJ_6t02e",
        "colab": {
          "base_uri": "https://localhost:8080/"
        },
        "outputId": "6e1799ab-6caa-4bef-9b42-5817c0ae945d"
      },
      "execution_count": 4,
      "outputs": [
        {
          "output_type": "stream",
          "name": "stdout",
          "text": [
            "Downloading https://www.cs.toronto.edu/~kriz/cifar-10-python.tar.gz to ./data/cifar-10-python.tar.gz\n"
          ]
        },
        {
          "output_type": "stream",
          "name": "stderr",
          "text": [
            "100%|██████████| 170498071/170498071 [00:05<00:00, 29719891.44it/s]\n"
          ]
        },
        {
          "output_type": "stream",
          "name": "stdout",
          "text": [
            "Extracting ./data/cifar-10-python.tar.gz to ./data\n",
            "Files already downloaded and verified\n"
          ]
        }
      ]
    },
    {
      "cell_type": "code",
      "source": [
        "# Examples of dataset\n",
        "\n",
        "def imshow(img):\n",
        "  img = img /2 + 0.5\n",
        "  npimg = img.numpy()\n",
        "  plt.imshow(np.transpose(npimg, (1, 2, 0)))\n",
        "\n",
        "dataiter = iter(trainloader)\n",
        "imgs, labels = next(dataiter)\n",
        "\n",
        "imshow(torchvision.utils.make_grid(imgs))\n",
        "print(' '.join('%5s' % classes[labels[j]] for j in range(4)))"
      ],
      "metadata": {
        "colab": {
          "base_uri": "https://localhost:8080/",
          "height": 229
        },
        "id": "HSmcclMF8aCE",
        "outputId": "e71d19fe-9314-4a46-e789-92cdadb2c7d9"
      },
      "execution_count": 5,
      "outputs": [
        {
          "output_type": "stream",
          "name": "stderr",
          "text": [
            "WARNING:matplotlib.image:Clipping input data to the valid range for imshow with RGB data ([0..1] for floats or [0..255] for integers).\n"
          ]
        },
        {
          "output_type": "stream",
          "name": "stdout",
          "text": [
            " ship  bird   car  bird\n"
          ]
        },
        {
          "output_type": "display_data",
          "data": {
            "text/plain": [
              "<Figure size 640x480 with 1 Axes>"
            ],
            "image/png": "[encoded data removed]"
          },
          "metadata": {}
        }
      ]
    },
    {
      "cell_type": "code",
      "source": [
        "# # Model\n",
        "\n",
        "# class SimpleNet(nn.Module):\n",
        "#     def __init__(self):\n",
        "#         super(SimpleNet, self).__init__()\n",
        "#         self.conv1 = nn.Conv2d(3, 6, 5) #(input channel, output channel, kernel_size, stride, padding)\n",
        "#         self.pool = nn.MaxPool2d(2, 2)\n",
        "#         self.conv2 = nn.Conv2d(6, 16, 5)\n",
        "#         self.fc1 = nn.Linear(16 * 5 * 5, 120)\n",
        "#         self.fc2 = nn.Linear(120, 84)\n",
        "#         self.fc3 = nn.Linear(84, 10)\n",
        "\n",
        "#     def forward(self, x):\n",
        "#         x = self.pool(F.relu(self.conv1(x)))\n",
        "#         x = self.pool(F.relu(self.conv2(x)))\n",
        "#         x = x.view(-1, 16 * 5 * 5)\n",
        "#         x = F.relu(self.fc1(x))\n",
        "#         x = F.relu(self.fc2(x))\n",
        "#         x = self.fc3(x)\n",
        "#         return x\n",
        "\n",
        "\n",
        "# net = SimpleNet().to(device)"
      ],
      "metadata": {
        "id": "zqMtmPhp89t7"
      },
      "execution_count": null,
      "outputs": []
    },
    {
      "cell_type": "code",
      "source": [
        "# VGG Model\n",
        "\n",
        "cfg = {'VGG11': [64, 'M', 128, 'M', 256, 256, 'M', 512, 512, 'M', 512, 512, 'M']}\n",
        "\n",
        "class VGG11(nn.Module):\n",
        "    def __init__(self):\n",
        "        super(VGG11, self).__init__()\n",
        "        self.features = self.make_layers(cfg['VGG11'])\n",
        "        self.classifier = nn.Linear(512, 10)\n",
        "\n",
        "    def make_layers(self, cfg):\n",
        "        layers = []\n",
        "        in_channels = 3\n",
        "        for x in cfg:\n",
        "            if x == 'M':\n",
        "                layers += [nn.MaxPool2d(kernel_size=2, stride=2)]\n",
        "            else:\n",
        "                layers += [nn.Conv2d(in_channels, x, kernel_size=3, padding=1),\n",
        "                           nn.BatchNorm2d(x),\n",
        "                           nn.ReLU(inplace=True)]\n",
        "                in_channels = x\n",
        "        layers += [nn.AvgPool2d(kernel_size=1, stride=1)]\n",
        "        return nn.Sequential(*layers)\n",
        "\n",
        "\n",
        "    def forward(self, x):\n",
        "        out = self.features(x)\n",
        "        out = out.view(out.size(0), -1)\n",
        "        out = self.classifier(out)\n",
        "        return out\n",
        "\n",
        "\n",
        "net = VGG11().to(device)"
      ],
      "metadata": {
        "id": "RPRGw87v_Hhr"
      },
      "execution_count": 6,
      "outputs": []
    },
    {
      "cell_type": "code",
      "source": [
        "# Loss function and optimizer\n",
        "criterion = nn.CrossEntropyLoss()\n",
        "optimizer = torch.optim.Adam(net.parameters(), lr=0.001)\n",
        "scheduler = torch.optim.lr_scheduler.StepLR(optimizer, step_size=10, gamma=0.1)"
      ],
      "metadata": {
        "id": "QN__KbZv_KAb"
      },
      "execution_count": 7,
      "outputs": []
    },
    {
      "cell_type": "code",
      "source": [
        "# Train the model\n",
        "epochs = 10  # number of epochs\n",
        "\n",
        "for epoch in range(epochs):\n",
        "\n",
        "    loss_tmp = 0.0\n",
        "    epoch_loss = 0.0\n",
        "    for i, data in enumerate(trainloader, start=0):\n",
        "        # Load the data\n",
        "        inputs, labels = data\n",
        "        inputs = inputs.to(device)\n",
        "        labels = labels.to(device)\n",
        "\n",
        "        # Estimate the output using the network\n",
        "        outputs = net(inputs)\n",
        "\n",
        "        # Calculate the loss between the output of the network and label\n",
        "        loss = criterion(outputs, labels)\n",
        "\n",
        "        # Optimize the network\n",
        "        optimizer.zero_grad()\n",
        "        loss.backward()\n",
        "        optimizer.step()\n",
        "\n",
        "        loss_tmp += loss.data\n",
        "        epoch_loss += loss.data\n",
        "\n",
        "        if i % 5000 == 4999:    # Print loss every 5000 mini-batches\n",
        "            print('[Epoch - %d, Iteration - %5d] Loss: %.3f' %\n",
        "                  (epoch + 1, i + 1, loss_tmp / (i+1)))\n",
        "            loss_tmp = 0.0\n",
        "\n",
        "    # Update the learning rate according to the learnig rate scheduler\n",
        "    scheduler.step()\n",
        "\n",
        "    # Print the epoch loss\n",
        "    print('[Epoch - %d] Loss: %.3f' %(epoch + 1, epoch_loss / (i+1)))\n",
        "\n",
        "print('Finished Training')\n"
      ],
      "metadata": {
        "colab": {
          "base_uri": "https://localhost:8080/"
        },
        "id": "uIsNPQBR_OLT",
        "outputId": "15d54129-6e69-4d11-b3b6-f279022c566a"
      },
      "execution_count": 8,
      "outputs": [
        {
          "output_type": "stream",
          "name": "stdout",
          "text": [
            "[Epoch - 1, Iteration -  5000] Loss: 2.076\n",
            "[Epoch - 1, Iteration - 10000] Loss: 0.875\n",
            "[Epoch - 1] Loss: 1.845\n",
            "[Epoch - 2, Iteration -  5000] Loss: 1.402\n",
            "[Epoch - 2, Iteration - 10000] Loss: 0.631\n",
            "[Epoch - 2] Loss: 1.300\n",
            "[Epoch - 3, Iteration -  5000] Loss: 1.090\n",
            "[Epoch - 3, Iteration - 10000] Loss: 0.514\n",
            "[Epoch - 3] Loss: 1.040\n",
            "[Epoch - 4, Iteration -  5000] Loss: 0.908\n",
            "[Epoch - 4, Iteration - 10000] Loss: 0.438\n",
            "[Epoch - 4] Loss: 0.883\n",
            "[Epoch - 5, Iteration -  5000] Loss: 0.792\n",
            "[Epoch - 5, Iteration - 10000] Loss: 0.389\n",
            "[Epoch - 5] Loss: 0.779\n",
            "[Epoch - 6, Iteration -  5000] Loss: 0.703\n",
            "[Epoch - 6, Iteration - 10000] Loss: 0.348\n",
            "[Epoch - 6] Loss: 0.695\n",
            "[Epoch - 7, Iteration -  5000] Loss: 0.642\n",
            "[Epoch - 7, Iteration - 10000] Loss: 0.315\n",
            "[Epoch - 7] Loss: 0.631\n",
            "[Epoch - 8, Iteration -  5000] Loss: 0.585\n",
            "[Epoch - 8, Iteration - 10000] Loss: 0.293\n",
            "[Epoch - 8] Loss: 0.584\n",
            "[Epoch - 9, Iteration -  5000] Loss: 0.544\n",
            "[Epoch - 9, Iteration - 10000] Loss: 0.267\n",
            "[Epoch - 9] Loss: 0.537\n",
            "[Epoch - 10, Iteration -  5000] Loss: 0.510\n",
            "[Epoch - 10, Iteration - 10000] Loss: 0.255\n",
            "[Epoch - 10] Loss: 0.508\n",
            "Finished Training\n"
          ]
        }
      ]
    },
    {
      "cell_type": "code",
      "source": [
        "# Test the trained model with sample\n",
        "\n",
        "dataiter_test = iter(testloader)\n",
        "img_test, labels_test = next(dataiter_test)\n",
        "\n",
        "imshow(torchvision.utils.make_grid(img_test))\n",
        "print('GroundTruth: ', ' '.join('%5s' % classes[labels_test[j]] for j in range(4)))\n",
        "\n",
        "img_test = img_test.to(device)\n",
        "labels_test = labels_test.to(device)\n",
        "\n",
        "# Prediction\n",
        "outputs_test = net(img_test)\n",
        "_, predicted = torch.max(outputs_test.data, 1)\n",
        "print('Predicted: ', ' '.join('%5s' % classes[predicted[j]] for j in range(4)))"
      ],
      "metadata": {
        "colab": {
          "base_uri": "https://localhost:8080/",
          "height": 247
        },
        "id": "dcouxvwT_TqG",
        "outputId": "688ed311-60f5-4a6f-9a76-1039ac26fa1c"
      },
      "execution_count": 9,
      "outputs": [
        {
          "output_type": "stream",
          "name": "stderr",
          "text": [
            "WARNING:matplotlib.image:Clipping input data to the valid range for imshow with RGB data ([0..1] for floats or [0..255] for integers).\n"
          ]
        },
        {
          "output_type": "stream",
          "name": "stdout",
          "text": [
            "GroundTruth:    cat  ship  ship plane\n",
            "Predicted:    cat  ship   car plane\n"
          ]
        },
        {
          "output_type": "display_data",
          "data": {
            "text/plain": [
              "<Figure size 640x480 with 1 Axes>"
            ],
            "image/png": "[encoded data removed]"
          },
          "metadata": {}
        }
      ]
    },
    {
      "cell_type": "code",
      "source": [
        "# Test the trained model with overall test dataset\n",
        "\n",
        "correct = 0\n",
        "total = 0\n",
        "for data in testloader:\n",
        "    # Load the data\n",
        "    inputs_test, labels_test = data\n",
        "    inputs_test = inputs_test.to(device)\n",
        "    labels_test = labels_test.to(device)\n",
        "\n",
        "    # Estimate the output using the trained network\n",
        "    outputs_test = net(inputs_test)\n",
        "    _, predicted = torch.max(outputs_test.data, 1)\n",
        "\n",
        "    # Calculate the accuracy\n",
        "    total += labels_test.size(0)\n",
        "    correct += (predicted == labels_test).sum()\n",
        "\n",
        "# Final accuracy\n",
        "print('Accuracy of the network on the 10,000 test images: %d %%' % (100 * correct / total))"
      ],
      "metadata": {
        "colab": {
          "base_uri": "https://localhost:8080/"
        },
        "id": "tETRAtMDAHIx",
        "outputId": "87dccd59-d8cb-4cea-f086-0e5ebfbe4a78"
      },
      "execution_count": 10,
      "outputs": [
        {
          "output_type": "stream",
          "name": "stdout",
          "text": [
            "Accuracy of the network on the 10,000 test images: 83 %\n"
          ]
        }
      ]
    },
    {
      "cell_type": "code",
      "source": [],
      "metadata": {
        "id": "DEB0M8p4DSDz"
      },
      "execution_count": null,
      "outputs": []
    }
  ]
}
