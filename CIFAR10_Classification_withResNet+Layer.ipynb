{
  "nbformat": 4,
  "nbformat_minor": 0,
  "metadata": {
    "colab": {
      "provenance": [],
      "gpuType": "T4",
      "authorship_tag": "ABX9TyOdZ4qJ8YZTTSQ9Fi9Ijprg",
      "include_colab_link": true
    },
    "kernelspec": {
      "name": "python3",
      "display_name": "Python 3"
    },
    "language_info": {
      "name": "python"
    },
    "accelerator": "GPU"
  },
  "cells": [
    {
      "cell_type": "markdown",
      "metadata": {
        "id": "view-in-github",
        "colab_type": "text"
      },
      "source": [
        "<a href=\"https://colab.research.google.com/github/angkmfirefoxygal/CIFAR10_CNN/blob/main/CIFAR10_Classification_withResNet%2BLayer.ipynb\" target=\"_parent\"><img src=\"https://colab.research.google.com/assets/colab-badge.svg\" alt=\"Open In Colab\"/></a>"
      ]
    },
    {
      "cell_type": "code",
      "execution_count": 15,
      "metadata": {
        "colab": {
          "base_uri": "https://localhost:8080/"
        },
        "id": "DHJQAWptwtqv",
        "outputId": "54994cfb-e4d6-4ea5-ccc9-25a197639642"
      },
      "outputs": [
        {
          "output_type": "stream",
          "name": "stdout",
          "text": [
            "cuda\n"
          ]
        }
      ],
      "source": [
        "# AS usual, a bit of setup\n",
        "# If you need other libraries, you should import the libraries.\n",
        "\n",
        "import os, sys\n",
        "import torch\n",
        "from torch import nn\n",
        "from torch.nn import functional as F\n",
        "\n",
        "import torchvision\n",
        "import torch.nn as nn\n",
        "import torch.optim as optim\n",
        "import torchvision.transforms as transforms\n",
        "import torchvision.datasets as datasets\n",
        "\n",
        "from torchvision.datasets import ImageFolder\n",
        "from torch.utils.data import DataLoader\n",
        "\n",
        "import matplotlib.pyplot as plt\n",
        "import numpy as np\n",
        "\n",
        "# Set the device\n",
        "device = 'cuda' if torch.cuda.is_available() else 'cpu'\n",
        "print(device)"
      ]
    },
    {
      "cell_type": "code",
      "source": [
        "\n",
        "#정규화 방식 정의\n",
        "transform = transforms.Compose(\n",
        "    [transforms.ToTensor(),\n",
        "     transforms.Normalize((0.4914, 0.4822, 0.4465), (0.2023, 0.1994, 0.2010))] #.Normalize([meanR, meanG, meanB], [stdR, stdG, stdB])\n",
        ")\n",
        "\n",
        "transform_train = transforms.Compose([\n",
        "    transforms.RandomCrop(32, padding=4),\n",
        "    transforms.RandomHorizontalFlip(),\n",
        "    transforms.RandomRotation(15),\n",
        "    transforms.ToTensor(),\n",
        "    transforms.Normalize((0.4914, 0.4822, 0.4465), (0.2023, 0.1994, 0.2010))\n",
        "])\n",
        "\n",
        "\n",
        "# 학습용 데이터 불러오기\n",
        "dataset = torchvision.datasets.CIFAR10(root = './data', train=True, download=True, transform = transform) #dataset = 5만개\n",
        "trainset, valset = torch.utils.data.random_split(dataset, [40000,10000])\n",
        "\n",
        "trainset.dataset.transform = transform_train\n",
        "\n",
        "trainloader = torch.utils.data.DataLoader(trainset, batch_size=64, shuffle=True, num_workers=2)\n",
        "valloader = torch.utils.data.DataLoader(valset, batch_size=32, shuffle=False)\n",
        "\n",
        "\n",
        "\n",
        "#테스트용 데이터 불러오기\n",
        "testset = torchvision.datasets.CIFAR10(root ='./data', train=False, download=True, transform = transform)\n",
        "testloader = torch.utils.data.DataLoader(testset, batch_size=32, shuffle=False, num_workers=2)\n",
        "\n",
        "\n",
        "# Classes of CIFAR-10 dataset\n",
        "classes = (\"plane\", \"car\", \"bird\", \"cat\", \"deer\", \"dog\", \"frog\", \"horse\", \"ship\", \"truck\")"
      ],
      "metadata": {
        "colab": {
          "base_uri": "https://localhost:8080/"
        },
        "id": "XYvmqJV-w2bQ",
        "outputId": "8a2abc8b-c931-4113-d74e-6b35987de74d"
      },
      "execution_count": 16,
      "outputs": [
        {
          "output_type": "stream",
          "name": "stdout",
          "text": [
            "Files already downloaded and verified\n",
            "Files already downloaded and verified\n"
          ]
        }
      ]
    },
    {
      "cell_type": "code",
      "source": [
        "print(len(trainloader.dataset))\n",
        "print(len(valloader.dataset))"
      ],
      "metadata": {
        "colab": {
          "base_uri": "https://localhost:8080/"
        },
        "id": "Hkwg3sE5xKt7",
        "outputId": "ed6acdeb-2954-4d5b-a6fc-71e5240af3fc"
      },
      "execution_count": 17,
      "outputs": [
        {
          "output_type": "stream",
          "name": "stdout",
          "text": [
            "40000\n",
            "10000\n"
          ]
        }
      ]
    },
    {
      "cell_type": "code",
      "source": [
        "def validation_loss(dataloader):\n",
        "  n = len(dataloader)\n",
        "  running_loss = 0\n",
        "\n",
        "  with torch.no_grad():   #평가만 하기 때문에 requires_grad 비활성화\n",
        "    resnet.eval()  #정규화 기법들이 작동하지 않도록 eval 모드로 설정\n",
        "    for data in dataloader:\n",
        "      images, labels = data[0].to(device), data[1].to(device)\n",
        "      outputs = resnet(images)\n",
        "      loss= criterion(outputs, labels)\n",
        "      running_loss += loss.item()\n",
        "\n",
        "    resnet.train()  #모델을 다시 train 모드로 변경\n",
        "\n",
        "    return running_loss/n"
      ],
      "metadata": {
        "id": "AAgUHGYVxY6N"
      },
      "execution_count": 18,
      "outputs": []
    },
    {
      "cell_type": "code",
      "source": [
        "\n",
        "class ResidualBlock(nn.Module):\n",
        "\n",
        "    def __init__(self, in_channels, out_channels, stride=1):\n",
        "        super(ResidualBlock, self).__init__()\n",
        "        self.stride = stride\n",
        "        self.in_channels = in_channels\n",
        "        self.out_channels = out_channels\n",
        "\n",
        "        self.conv_block = nn.Sequential(\n",
        "            nn.Conv2d(self.in_channels, self.out_channels, kernel_size=3, stride=stride, padding=1, bias=False),\n",
        "            nn.BatchNorm2d(self.out_channels),\n",
        "            nn.ReLU(),\n",
        "            nn.Conv2d(self.out_channels, self.out_channels, kernel_size=3, stride=1, padding=1, bias=False),\n",
        "            nn.BatchNorm2d(self.out_channels))\n",
        "\n",
        "        if self.stride != 1 or self.in_channels != self.out_channels:\n",
        "            self.downsample = nn.Sequential(\n",
        "                            nn.Conv2d(self.in_channels, self.out_channels, kernel_size=1, stride=stride, bias=False),\n",
        "                            nn.BatchNorm2d(self.out_channels))\n",
        "\n",
        "    def forward(self, x):\n",
        "        out = self.conv_block(x)\n",
        "        if self.stride != 1 or self.in_channels != self.out_channels:\n",
        "            x = self.downsample(x)\n",
        "\n",
        "        out = F.relu(x + out)\n",
        "        return out\n",
        "class ResNet(nn.Module):\n",
        "    def __init__(self, num_blocks, num_classes=10):\n",
        "        super(ResNet, self).__init__()\n",
        "        self.in_channels = 64\n",
        "        self.base = nn.Sequential(\n",
        "                        nn.Conv2d(3, 64, kernel_size=3,stride=1, padding=1, bias=False),\n",
        "                        nn.BatchNorm2d(64),\n",
        "                        nn.ReLU())\n",
        "        self.layer1 = self._make_layer(64, num_blocks[0], stride=1)\n",
        "        self.layer2 = self._make_layer(128, num_blocks[1], stride=2)\n",
        "        self.layer3 = self._make_layer(256, num_blocks[2], stride=2)\n",
        "        self.layer4 = self._make_layer(512, num_blocks[3], stride=2)\n",
        "        self.gap = nn.AvgPool2d(4) # 4: 필터 사이즈\n",
        "        self.fc = nn.Linear(512, num_classes)\n",
        "\n",
        "    def _make_layer(self, out_channels, num_blocks, stride):\n",
        "\n",
        "        strides = [stride] + [1]*(num_blocks-1)\n",
        "        layers = []\n",
        "        for stride in strides:\n",
        "            block = ResidualBlock(self.in_channels, out_channels, stride)\n",
        "            layers.append(block)\n",
        "            self.in_channels = out_channels\n",
        "\n",
        "        return nn.Sequential(*layers)\n",
        "\n",
        "    def forward(self, x):\n",
        "        out = self.base(x)\n",
        "        out = self.layer1(out)\n",
        "        out = self.layer2(out)\n",
        "        out = self.layer3(out)\n",
        "        out = self.layer4(out)\n",
        "        out = self.gap(out)\n",
        "        out = out.view(out.size(0), -1)\n",
        "        out = self.fc(out)\n",
        "        return out\n",
        "\n",
        "def modeltype(model):\n",
        "    if model == 'resnet18':\n",
        "        return ResNet([2, 2, 2, 2])\n",
        "    elif model == 'resnet34':\n",
        "        return ResNet([3, 4, 6, 3])\n",
        "    elif model == 'resnet50':\n",
        "        return ResNet([3, 4, 6, 3])  # ResNet50 has more layers in total\n",
        "    elif model == 'resnet101':\n",
        "        return ResNet([3, 4, 23, 3])  # ResNet101 is even deeper\n",
        "    elif model == 'resnet152':\n",
        "        return ResNet([3, 8, 36, 3])  # ResNet152 is the deepest variant\n",
        "\n",
        "resnet = modeltype('resnet18').to(device)\n",
        ""
      ],
      "metadata": {
        "id": "2vTi2TGUCS9I"
      },
      "execution_count": 22,
      "outputs": []
    },
    {
      "cell_type": "code",
      "source": [
        "criterion = nn.CrossEntropyLoss()\n",
        "optimizer = optim.Adam(resnet.parameters(), lr=1e-3)\n",
        "scheduler = torch.optim.lr_scheduler.CosineAnnealingLR(optimizer, 5, eta_min=0)"
      ],
      "metadata": {
        "id": "Nc4FyVTJxi6K"
      },
      "execution_count": 23,
      "outputs": []
    },
    {
      "cell_type": "code",
      "source": [
        "train_loss_list = []\n",
        "val_loss_list = []\n",
        "n = len(trainloader) # 매 에폭마다 평균 loss 값 계산 위해서\n",
        "early_stopping_loss = 1 # 가장 낮은 loss 함수 값에 해당하는 모델 저장 위해서, 초기 기준 1로 설정\n",
        "#배치 데이터 받아서 학습 진행\n",
        "for epoch in range(101):\n",
        "    running_loss = 0\n",
        "    for data in trainloader:\n",
        "        inputs, labels = data[0].to(device), data[1].to(device)\n",
        "        optimizer.zero_grad()\n",
        "        outputs = resnet(inputs)\n",
        "        loss= criterion(outputs, labels)\n",
        "        loss.backward()\n",
        "        optimizer.step()\n",
        "\n",
        "        running_loss += loss.item()\n",
        "\n",
        "    #배치 완료할 때 마다 평균 loss 값 계산\n",
        "    train_loss = running_loss / n\n",
        "    train_loss_list.append(train_loss)\n",
        "    val_loss = validation_loss(valloader)\n",
        "    val_loss_list.append(val_loss)\n",
        "\n",
        "    print('[%d] train loss : %.3f, validation loss : %.3f' %(epoch +1, train_loss, val_loss))\n",
        "\n",
        "    #현재 val 에서 loss 값이 기준보다 작으면 모델 저장 (train, val의 loss 함수 값과 에폭)\n",
        "    if val_loss < early_stopping_loss:\n",
        "        # torch.save(resnet.state_dict(), PATH)\n",
        "        early_stopping_train_loss = train_loss\n",
        "        early_stopping_val_loss = val_loss\n",
        "        early_stopping_epoch = epoch\n",
        "\n",
        "#학습 끝나면 조기종료한 에폭과 손실함수 값 출력\n",
        "print('Final pretrained model >> [%d] train loss: %.3f , validation loss: %.3f' %(early_stopping_epoch + 1,\n",
        "                                                        early_stopping_train_loss, early_stopping_val_loss))\n"
      ],
      "metadata": {
        "colab": {
          "base_uri": "https://localhost:8080/"
        },
        "id": "TYxU8pClxjNj",
        "outputId": "6724fdc4-2b63-400a-ff5b-63aadfc52126"
      },
      "execution_count": 24,
      "outputs": [
        {
          "output_type": "stream",
          "name": "stdout",
          "text": [
            "[1] train loss : 1.546, validation loss : 1.759\n",
            "[2] train loss : 1.142, validation loss : 1.053\n",
            "[3] train loss : 0.961, validation loss : 0.890\n",
            "[4] train loss : 0.825, validation loss : 0.934\n",
            "[5] train loss : 0.730, validation loss : 0.703\n",
            "[6] train loss : 0.658, validation loss : 0.692\n",
            "[7] train loss : 0.605, validation loss : 0.593\n",
            "[8] train loss : 0.562, validation loss : 0.572\n",
            "[9] train loss : 0.515, validation loss : 0.557\n",
            "[10] train loss : 0.488, validation loss : 0.528\n",
            "[11] train loss : 0.455, validation loss : 0.485\n",
            "[12] train loss : 0.424, validation loss : 0.536\n",
            "[13] train loss : 0.400, validation loss : 0.441\n",
            "[14] train loss : 0.380, validation loss : 0.491\n",
            "[15] train loss : 0.354, validation loss : 0.466\n",
            "[16] train loss : 0.342, validation loss : 0.520\n",
            "[17] train loss : 0.328, validation loss : 0.397\n",
            "[18] train loss : 0.310, validation loss : 0.417\n",
            "[19] train loss : 0.292, validation loss : 0.449\n",
            "[20] train loss : 0.279, validation loss : 0.420\n",
            "[21] train loss : 0.268, validation loss : 0.363\n",
            "[22] train loss : 0.250, validation loss : 0.356\n",
            "[23] train loss : 0.240, validation loss : 0.455\n",
            "[24] train loss : 0.229, validation loss : 0.360\n",
            "[25] train loss : 0.217, validation loss : 0.369\n",
            "[26] train loss : 0.206, validation loss : 0.372\n",
            "[27] train loss : 0.196, validation loss : 0.377\n",
            "[28] train loss : 0.192, validation loss : 0.376\n",
            "[29] train loss : 0.182, validation loss : 0.336\n",
            "[30] train loss : 0.175, validation loss : 0.366\n",
            "[31] train loss : 0.168, validation loss : 0.352\n",
            "[32] train loss : 0.163, validation loss : 0.383\n",
            "[33] train loss : 0.155, validation loss : 0.343\n",
            "[34] train loss : 0.147, validation loss : 0.355\n",
            "[35] train loss : 0.144, validation loss : 0.370\n",
            "[36] train loss : 0.135, validation loss : 0.331\n",
            "[37] train loss : 0.132, validation loss : 0.386\n",
            "[38] train loss : 0.131, validation loss : 0.355\n",
            "[39] train loss : 0.119, validation loss : 0.381\n",
            "[40] train loss : 0.125, validation loss : 0.361\n",
            "[41] train loss : 0.113, validation loss : 0.350\n",
            "[42] train loss : 0.111, validation loss : 0.387\n",
            "[43] train loss : 0.109, validation loss : 0.362\n",
            "[44] train loss : 0.106, validation loss : 0.374\n",
            "[45] train loss : 0.104, validation loss : 0.361\n",
            "[46] train loss : 0.101, validation loss : 0.370\n",
            "[47] train loss : 0.094, validation loss : 0.384\n",
            "[48] train loss : 0.094, validation loss : 0.364\n",
            "[49] train loss : 0.090, validation loss : 0.360\n",
            "[50] train loss : 0.088, validation loss : 0.412\n",
            "[51] train loss : 0.085, validation loss : 0.372\n",
            "[52] train loss : 0.089, validation loss : 0.367\n",
            "[53] train loss : 0.081, validation loss : 0.358\n",
            "[54] train loss : 0.081, validation loss : 0.388\n",
            "[55] train loss : 0.079, validation loss : 0.406\n",
            "[56] train loss : 0.078, validation loss : 0.380\n",
            "[57] train loss : 0.074, validation loss : 0.385\n",
            "[58] train loss : 0.073, validation loss : 0.388\n",
            "[59] train loss : 0.072, validation loss : 0.377\n",
            "[60] train loss : 0.069, validation loss : 0.381\n",
            "[61] train loss : 0.066, validation loss : 0.373\n",
            "[62] train loss : 0.071, validation loss : 0.374\n",
            "[63] train loss : 0.067, validation loss : 0.404\n",
            "[64] train loss : 0.067, validation loss : 0.399\n",
            "[65] train loss : 0.066, validation loss : 0.391\n",
            "[66] train loss : 0.058, validation loss : 0.401\n",
            "[67] train loss : 0.060, validation loss : 0.393\n",
            "[68] train loss : 0.059, validation loss : 0.386\n",
            "[69] train loss : 0.060, validation loss : 0.406\n",
            "[70] train loss : 0.061, validation loss : 0.384\n",
            "[71] train loss : 0.055, validation loss : 0.381\n",
            "[72] train loss : 0.055, validation loss : 0.377\n",
            "[73] train loss : 0.055, validation loss : 0.399\n",
            "[74] train loss : 0.053, validation loss : 0.399\n",
            "[75] train loss : 0.049, validation loss : 0.397\n",
            "[76] train loss : 0.058, validation loss : 0.386\n",
            "[77] train loss : 0.050, validation loss : 0.388\n",
            "[78] train loss : 0.051, validation loss : 0.407\n",
            "[79] train loss : 0.050, validation loss : 0.384\n",
            "[80] train loss : 0.049, validation loss : 0.394\n",
            "[81] train loss : 0.051, validation loss : 0.397\n",
            "[82] train loss : 0.046, validation loss : 0.406\n",
            "[83] train loss : 0.045, validation loss : 0.422\n",
            "[84] train loss : 0.045, validation loss : 0.436\n",
            "[85] train loss : 0.047, validation loss : 0.386\n",
            "[86] train loss : 0.042, validation loss : 0.411\n",
            "[87] train loss : 0.043, validation loss : 0.396\n",
            "[88] train loss : 0.046, validation loss : 0.412\n",
            "[89] train loss : 0.044, validation loss : 0.405\n",
            "[90] train loss : 0.044, validation loss : 0.384\n",
            "[91] train loss : 0.042, validation loss : 0.426\n",
            "[92] train loss : 0.042, validation loss : 0.400\n",
            "[93] train loss : 0.042, validation loss : 0.391\n",
            "[94] train loss : 0.040, validation loss : 0.397\n",
            "[95] train loss : 0.040, validation loss : 0.419\n",
            "[96] train loss : 0.040, validation loss : 0.394\n",
            "[97] train loss : 0.039, validation loss : 0.439\n",
            "[98] train loss : 0.041, validation loss : 0.434\n",
            "[99] train loss : 0.036, validation loss : 0.411\n",
            "[100] train loss : 0.040, validation loss : 0.389\n",
            "[101] train loss : 0.035, validation loss : 0.423\n",
            "Final pretrained model >> [101] train loss: 0.035 , validation loss: 0.423\n"
          ]
        }
      ]
    },
    {
      "cell_type": "code",
      "source": [
        "#loss plot 그리기\n",
        "plt.plot(train_loss_list)\n",
        "plt.plot(val_loss_list)\n",
        "plt.legend(['train','validation'])\n",
        "plt.title(\"Loss\")\n",
        "plt.xlabel(\"epoch\")\n",
        "plt.show()\n",
        "\n",
        "plt.plot(train_loss_list[:15])\n",
        "plt.plot(val_loss_list[:15])\n",
        "plt.legend(['train','validation'])\n",
        "plt.title(\"Loss\")\n",
        "plt.xlabel(\"epoch\")\n",
        "plt.show()"
      ],
      "metadata": {
        "colab": {
          "base_uri": "https://localhost:8080/",
          "height": 927
        },
        "id": "0uFRKvvMxnUq",
        "outputId": "428d9bff-af85-4432-8e7a-851c9243ae56"
      },
      "execution_count": 25,
      "outputs": [
        {
          "output_type": "display_data",
          "data": {
            "text/plain": [
              "<Figure size 640x480 with 1 Axes>"
            ],
            "image/png": "[encoded data removed]"
          },
          "metadata": {}
        },
        {
          "output_type": "display_data",
          "data": {
            "text/plain": [
              "<Figure size 640x480 with 1 Axes>"
            ],
            "image/png": "[encoded data removed]"
          },
          "metadata": {}
        }
      ]
    },
    {
      "cell_type": "code",
      "source": [
        "\n",
        "#Test set 예측\n",
        "# 평가 데이터로 예측 실시해서 정확도 확인\n",
        "# output은 미니배치의 결과가 산출되기 때문에 for문을 통해서 test 전체의 예측값을 구한다.\n",
        "\n",
        "correct = 0\n",
        "total = 0\n",
        "with torch.no_grad():\n",
        "    resnet.eval()\n",
        "    for data in testloader:\n",
        "        images, labels = data[0].to(device), data[1].to(device)\n",
        "        outputs = resnet(images)\n",
        "        _, predicted = torch.max(outputs.data, 1)\n",
        "        total += labels.size(0) # 개수 누적(총 개수)\n",
        "        correct += (predicted == labels).sum().item() # 누적(맞으면 1, 틀리면 0으로 합산)\n",
        "\n",
        "print('Test accuracy: %.2f %%' % (100 * correct / total))"
      ],
      "metadata": {
        "colab": {
          "base_uri": "https://localhost:8080/"
        },
        "id": "cAw-RQDd-Twm",
        "outputId": "43f5ec20-2da9-40f1-930e-92e6eff0389a"
      },
      "execution_count": 26,
      "outputs": [
        {
          "output_type": "stream",
          "name": "stdout",
          "text": [
            "Test accuracy: 91.67 %\n"
          ]
        }
      ]
    },
    {
      "cell_type": "code",
      "source": [],
      "metadata": {
        "id": "9evYzixdUrp8"
      },
      "execution_count": null,
      "outputs": []
    }
  ]
}