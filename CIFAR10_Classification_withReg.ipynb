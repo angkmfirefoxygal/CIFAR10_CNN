{
  "nbformat": 4,
  "nbformat_minor": 0,
  "metadata": {
    "colab": {
      "provenance": [],
      "gpuType": "T4",
      "authorship_tag": "ABX9TyNWi1nAgUR7qDqErqhajK/V",
      "include_colab_link": true
    },
    "kernelspec": {
      "name": "python3",
      "display_name": "Python 3"
    },
    "language_info": {
      "name": "python"
    },
    "accelerator": "GPU"
  },
  "cells": [
    {
      "cell_type": "markdown",
      "metadata": {
        "id": "view-in-github",
        "colab_type": "text"
      },
      "source": [
        "<a href=\"https://colab.research.google.com/github/angkmfirefoxygal/CIFAR10_CNN/blob/main/CIFAR10_Classification_withReg.ipynb\" target=\"_parent\"><img src=\"https://colab.research.google.com/assets/colab-badge.svg\" alt=\"Open In Colab\"/></a>"
      ]
    },
    {
      "cell_type": "code",
      "execution_count": 2,
      "metadata": {
        "colab": {
          "base_uri": "https://localhost:8080/"
        },
        "id": "DHJQAWptwtqv",
        "outputId": "6c1d4474-ab06-44d1-b9f3-345b3deb6236"
      },
      "outputs": [
        {
          "output_type": "stream",
          "name": "stdout",
          "text": [
            "cuda\n"
          ]
        }
      ],
      "source": [
        "# AS usual, a bit of setup\n",
        "# If you need other libraries, you should import the libraries.\n",
        "\n",
        "import os, sys\n",
        "import torch\n",
        "from torch import nn\n",
        "from torch.nn import functional as F\n",
        "\n",
        "import torchvision\n",
        "import torch.nn as nn\n",
        "import torch.optim as optim\n",
        "import torchvision.transforms as transforms\n",
        "import torchvision.datasets as datasets\n",
        "\n",
        "from torchvision.datasets import ImageFolder\n",
        "from torch.utils.data import DataLoader\n",
        "\n",
        "import matplotlib.pyplot as plt\n",
        "import numpy as np\n",
        "\n",
        "# Set the device\n",
        "device = 'cuda' if torch.cuda.is_available() else 'cpu'\n",
        "print(device)"
      ]
    },
    {
      "cell_type": "code",
      "source": [
        "#정규화 방식 정의\n",
        "transform = transforms.Compose(\n",
        "    [transforms.ToTensor(),\n",
        "     transforms.Normalize((0.4914, 0.4822, 0.4465), (0.2023, 0.1994, 0.2010))] #.Normalize([meanR, meanG, meanB], [stdR, stdG, stdB])\n",
        ")\n",
        "\n",
        "transform_train = transforms.Compose([\n",
        "    transforms.RandomCrop(32, padding=4),\n",
        "    transforms.RandomHorizontalFlip(),\n",
        "    transforms.RandomRotation(15),\n",
        "    transforms.ToTensor(),\n",
        "    transforms.Normalize((0.4914, 0.4822, 0.4465), (0.2023, 0.1994, 0.2010))\n",
        "])\n",
        "\n",
        "\n",
        "# 학습용 데이터 불러오기\n",
        "dataset = torchvision.datasets.CIFAR10(root = './data', train=True, download=True, transform = transform) #dataset = 5만개\n",
        "trainset, valset = torch.utils.data.random_split(dataset, [30000,20000])\n",
        "\n",
        "trainset.dataset.transform = transform_train\n",
        "\n",
        "trainloader = torch.utils.data.DataLoader(trainset, batch_size=32, shuffle=True, num_workers=2)\n",
        "valloader = torch.utils.data.DataLoader(valset, batch_size=32, shuffle=False)\n",
        "\n",
        "\n",
        "\n",
        "#테스트용 데이터 불러오기\n",
        "testset = torchvision.datasets.CIFAR10(root ='./data', train=False, download=True, transform = transform)\n",
        "testloader = torch.utils.data.DataLoader(testset, batch_size=32, shuffle=False, num_workers=2)\n",
        "\n",
        "\n",
        "# Classes of CIFAR-10 dataset\n",
        "classes = (\"plane\", \"car\", \"bird\", \"cat\", \"deer\", \"dog\", \"frog\", \"horse\", \"ship\", \"truck\")"
      ],
      "metadata": {
        "colab": {
          "base_uri": "https://localhost:8080/"
        },
        "id": "XYvmqJV-w2bQ",
        "outputId": "1a7ecd5d-7e6d-43d5-d0a4-93b8380bcd03"
      },
      "execution_count": 3,
      "outputs": [
        {
          "output_type": "stream",
          "name": "stdout",
          "text": [
            "Downloading https://www.cs.toronto.edu/~kriz/cifar-10-python.tar.gz to ./data/cifar-10-python.tar.gz\n"
          ]
        },
        {
          "output_type": "stream",
          "name": "stderr",
          "text": [
            "100%|██████████| 170498071/170498071 [00:14<00:00, 12085790.66it/s]\n"
          ]
        },
        {
          "output_type": "stream",
          "name": "stdout",
          "text": [
            "Extracting ./data/cifar-10-python.tar.gz to ./data\n",
            "Files already downloaded and verified\n"
          ]
        }
      ]
    },
    {
      "cell_type": "code",
      "source": [
        "print(len(trainloader.dataset))\n",
        "print(len(valloader.dataset))"
      ],
      "metadata": {
        "colab": {
          "base_uri": "https://localhost:8080/"
        },
        "id": "Hkwg3sE5xKt7",
        "outputId": "f5cb299f-3927-4d3c-8651-a23c4ea8a638"
      },
      "execution_count": 4,
      "outputs": [
        {
          "output_type": "stream",
          "name": "stdout",
          "text": [
            "30000\n",
            "20000\n"
          ]
        }
      ]
    },
    {
      "cell_type": "code",
      "source": [
        "def validation_loss(dataloader):\n",
        "  n = len(dataloader)\n",
        "  running_loss = 0\n",
        "\n",
        "  with torch.no_grad():   #평가만 하기 때문에 requires_grad 비활성화\n",
        "    resnet.eval()  #정규화 기법들이 작동하지 않도록 eval 모드로 설정\n",
        "    for data in dataloader:\n",
        "      images, labels = data[0].to(device), data[1].to(device)\n",
        "      outputs = resnet(images)\n",
        "      loss= criterion(outputs, labels)\n",
        "      running_loss += loss.item()\n",
        "\n",
        "    resnet.train()  #모델을 다시 train 모드로 변경\n",
        "\n",
        "    return running_loss/n"
      ],
      "metadata": {
        "id": "AAgUHGYVxY6N"
      },
      "execution_count": 5,
      "outputs": []
    },
    {
      "cell_type": "code",
      "execution_count": 6,
      "metadata": {
        "id": "OZWFbucC4Ij_"
      },
      "outputs": [],
      "source": [
        "class ResidualBlock(nn.Module):\n",
        "\n",
        "    def __init__(self, in_channels, out_channels, stride=1):\n",
        "        super(ResidualBlock, self).__init__()\n",
        "        self.stride = stride\n",
        "        self.in_channels = in_channels\n",
        "        self.out_channels = out_channels\n",
        "\n",
        "        self.conv_block = nn.Sequential(\n",
        "            nn.Conv2d(self.in_channels, self.out_channels, kernel_size=3, stride=stride, padding=1, bias=False),\n",
        "            nn.BatchNorm2d(self.out_channels),\n",
        "            nn.ReLU(),\n",
        "            nn.Conv2d(self.out_channels, self.out_channels, kernel_size=3, stride=1, padding=1, bias=False),\n",
        "            nn.BatchNorm2d(self.out_channels))\n",
        "\n",
        "        if self.stride != 1 or self.in_channels != self.out_channels:\n",
        "            self.downsample = nn.Sequential(\n",
        "                            nn.Conv2d(self.in_channels, self.out_channels, kernel_size=1, stride=stride, bias=False),\n",
        "                            nn.BatchNorm2d(self.out_channels))\n",
        "\n",
        "    def forward(self, x):\n",
        "        out = self.conv_block(x)\n",
        "        if self.stride != 1 or self.in_channels != self.out_channels:\n",
        "            x = self.downsample(x)\n",
        "\n",
        "        out = F.relu(x + out)\n",
        "        return out\n",
        "class ResNet(nn.Module):\n",
        "    def __init__(self, num_blocks, num_classes=10):\n",
        "        super(ResNet, self).__init__()\n",
        "        self.in_channels = 64\n",
        "        self.base = nn.Sequential(\n",
        "                        nn.Conv2d(3, 64, kernel_size=3,stride=1, padding=1, bias=False),\n",
        "                        nn.BatchNorm2d(64),\n",
        "                        nn.ReLU())\n",
        "        self.layer1 = self._make_layer(64, num_blocks[0], stride=1)\n",
        "        self.layer2 = self._make_layer(128, num_blocks[1], stride=2)\n",
        "        self.layer3 = self._make_layer(256, num_blocks[2], stride=2)\n",
        "        self.layer4 = self._make_layer(512, num_blocks[3], stride=2)\n",
        "        self.gap = nn.AvgPool2d(4) # 4: 필터 사이즈\n",
        "        self.fc = nn.Linear(512, num_classes)\n",
        "\n",
        "    def _make_layer(self, out_channels, num_blocks, stride):\n",
        "\n",
        "        strides = [stride] + [1]*(num_blocks-1)\n",
        "        layers = []\n",
        "        for stride in strides:\n",
        "            block = ResidualBlock(self.in_channels, out_channels, stride)\n",
        "            layers.append(block)\n",
        "            self.in_channels = out_channels\n",
        "\n",
        "        return nn.Sequential(*layers)\n",
        "\n",
        "    def forward(self, x):\n",
        "        out = self.base(x)\n",
        "        out = self.layer1(out)\n",
        "        out = self.layer2(out)\n",
        "        out = self.layer3(out)\n",
        "        out = self.layer4(out)\n",
        "        out = self.gap(out)\n",
        "        out = out.view(out.size(0), -1)\n",
        "        out = self.fc(out)\n",
        "        return out\n",
        "\n",
        "def modeltype(model):\n",
        "    if model == 'resnet18':\n",
        "        return ResNet([2, 2, 2, 2])\n",
        "\n",
        "    elif model == 'resnet34':\n",
        "        return ResNet([3, 4, 6, 3])\n",
        "resnet = modeltype('resnet18').to(device)"
      ]
    },
    {
      "cell_type": "code",
      "source": [
        "criterion = nn.CrossEntropyLoss()\n",
        "optimizer = optim.Adam(resnet.parameters(), lr=1e-3)\n",
        "scheduler = torch.optim.lr_scheduler.CosineAnnealingLR(optimizer, 5, eta_min=0)"
      ],
      "metadata": {
        "id": "Nc4FyVTJxi6K"
      },
      "execution_count": 7,
      "outputs": []
    },
    {
      "cell_type": "code",
      "source": [
        "train_loss_list = []\n",
        "val_loss_list = []\n",
        "n = len(trainloader) # 매 에폭마다 평균 loss 값 계산 위해서\n",
        "early_stopping_loss = 1 # 가장 낮은 loss 함수 값에 해당하는 모델 저장 위해서, 초기 기준 1로 설정\n",
        "#배치 데이터 받아서 학습 진행\n",
        "for epoch in range(81):\n",
        "    running_loss = 0\n",
        "    for data in trainloader:\n",
        "        inputs, labels = data[0].to(device), data[1].to(device)\n",
        "        optimizer.zero_grad()\n",
        "        outputs = resnet(inputs)\n",
        "        loss= criterion(outputs, labels)\n",
        "        loss.backward()\n",
        "        optimizer.step()\n",
        "\n",
        "        running_loss += loss.item()\n",
        "\n",
        "    #배치 완료할 때 마다 평균 loss 값 계산\n",
        "    train_loss = running_loss / n\n",
        "    train_loss_list.append(train_loss)\n",
        "    val_loss = validation_loss(valloader)\n",
        "    val_loss_list.append(val_loss)\n",
        "\n",
        "    print('[%d] train loss : %.3f, validation loss : %.3f' %(epoch +1, train_loss, val_loss))\n",
        "\n",
        "    #현재 val 에서 loss 값이 기준보다 작으면 모델 저장 (train, val의 loss 함수 값과 에폭)\n",
        "    if val_loss < early_stopping_loss:\n",
        "        # torch.save(resnet.state_dict(), PATH)\n",
        "        early_stopping_train_loss = train_loss\n",
        "        early_stopping_val_loss = val_loss\n",
        "        early_stopping_epoch = epoch\n",
        "\n",
        "#학습 끝나면 조기종료한 에폭과 손실함수 값 출력\n",
        "print('Final pretrained model >> [%d] train loss: %.3f , validation loss: %.3f' %(early_stopping_epoch + 1,\n",
        "                                                        early_stopping_train_loss, early_stopping_val_loss))\n"
      ],
      "metadata": {
        "colab": {
          "base_uri": "https://localhost:8080/"
        },
        "id": "TYxU8pClxjNj",
        "outputId": "337835a3-232f-4fec-f188-aa282ea17c11"
      },
      "execution_count": 8,
      "outputs": [
        {
          "output_type": "stream",
          "name": "stdout",
          "text": [
            "[1] train loss : 1.697, validation loss : 1.486\n",
            "[2] train loss : 1.316, validation loss : 1.278\n",
            "[3] train loss : 1.131, validation loss : 1.375\n",
            "[4] train loss : 1.009, validation loss : 1.047\n",
            "[5] train loss : 0.899, validation loss : 0.842\n",
            "[6] train loss : 0.788, validation loss : 0.802\n",
            "[7] train loss : 0.727, validation loss : 0.690\n",
            "[8] train loss : 0.661, validation loss : 0.689\n",
            "[9] train loss : 0.615, validation loss : 0.603\n",
            "[10] train loss : 0.569, validation loss : 0.598\n",
            "[11] train loss : 0.530, validation loss : 0.611\n",
            "[12] train loss : 0.508, validation loss : 0.546\n",
            "[13] train loss : 0.479, validation loss : 0.532\n",
            "[14] train loss : 0.449, validation loss : 0.511\n",
            "[15] train loss : 0.427, validation loss : 0.468\n",
            "[16] train loss : 0.401, validation loss : 0.472\n",
            "[17] train loss : 0.379, validation loss : 0.460\n",
            "[18] train loss : 0.363, validation loss : 0.499\n",
            "[19] train loss : 0.344, validation loss : 0.481\n",
            "[20] train loss : 0.320, validation loss : 0.438\n",
            "[21] train loss : 0.308, validation loss : 0.441\n",
            "[22] train loss : 0.292, validation loss : 0.437\n",
            "[23] train loss : 0.282, validation loss : 0.432\n",
            "[24] train loss : 0.268, validation loss : 0.430\n",
            "[25] train loss : 0.250, validation loss : 0.416\n",
            "[26] train loss : 0.248, validation loss : 0.440\n",
            "[27] train loss : 0.234, validation loss : 0.414\n",
            "[28] train loss : 0.222, validation loss : 0.431\n",
            "[29] train loss : 0.213, validation loss : 0.424\n",
            "[30] train loss : 0.205, validation loss : 0.444\n",
            "[31] train loss : 0.200, validation loss : 0.423\n",
            "[32] train loss : 0.190, validation loss : 0.416\n",
            "[33] train loss : 0.180, validation loss : 0.425\n",
            "[34] train loss : 0.178, validation loss : 0.411\n",
            "[35] train loss : 0.166, validation loss : 0.407\n",
            "[36] train loss : 0.163, validation loss : 0.416\n",
            "[37] train loss : 0.157, validation loss : 0.440\n",
            "[38] train loss : 0.149, validation loss : 0.480\n",
            "[39] train loss : 0.148, validation loss : 0.445\n",
            "[40] train loss : 0.139, validation loss : 0.456\n",
            "[41] train loss : 0.136, validation loss : 0.467\n",
            "[42] train loss : 0.128, validation loss : 0.441\n",
            "[43] train loss : 0.127, validation loss : 0.433\n",
            "[44] train loss : 0.123, validation loss : 0.441\n",
            "[45] train loss : 0.122, validation loss : 0.448\n",
            "[46] train loss : 0.114, validation loss : 0.449\n",
            "[47] train loss : 0.115, validation loss : 0.435\n",
            "[48] train loss : 0.108, validation loss : 0.440\n",
            "[49] train loss : 0.110, validation loss : 0.437\n",
            "[50] train loss : 0.103, validation loss : 0.431\n",
            "[51] train loss : 0.100, validation loss : 0.457\n",
            "[52] train loss : 0.097, validation loss : 0.456\n",
            "[53] train loss : 0.094, validation loss : 0.434\n",
            "[54] train loss : 0.093, validation loss : 0.456\n",
            "[55] train loss : 0.088, validation loss : 0.445\n",
            "[56] train loss : 0.090, validation loss : 0.494\n",
            "[57] train loss : 0.087, validation loss : 0.451\n",
            "[58] train loss : 0.087, validation loss : 0.458\n",
            "[59] train loss : 0.079, validation loss : 0.448\n",
            "[60] train loss : 0.078, validation loss : 0.465\n",
            "[61] train loss : 0.075, validation loss : 0.461\n",
            "[62] train loss : 0.078, validation loss : 0.472\n",
            "[63] train loss : 0.075, validation loss : 0.502\n",
            "[64] train loss : 0.078, validation loss : 0.464\n",
            "[65] train loss : 0.074, validation loss : 0.443\n",
            "[66] train loss : 0.071, validation loss : 0.428\n",
            "[67] train loss : 0.067, validation loss : 0.481\n",
            "[68] train loss : 0.074, validation loss : 0.475\n",
            "[69] train loss : 0.068, validation loss : 0.476\n",
            "[70] train loss : 0.065, validation loss : 0.473\n",
            "[71] train loss : 0.067, validation loss : 0.467\n",
            "[72] train loss : 0.060, validation loss : 0.480\n",
            "[73] train loss : 0.067, validation loss : 0.481\n",
            "[74] train loss : 0.063, validation loss : 0.494\n",
            "[75] train loss : 0.060, validation loss : 0.469\n",
            "[76] train loss : 0.058, validation loss : 0.516\n",
            "[77] train loss : 0.060, validation loss : 0.492\n",
            "[78] train loss : 0.055, validation loss : 0.476\n",
            "[79] train loss : 0.058, validation loss : 0.463\n",
            "[80] train loss : 0.057, validation loss : 0.471\n",
            "[81] train loss : 0.056, validation loss : 0.491\n",
            "Final pretrained model >> [81] train loss: 0.056 , validation loss: 0.491\n"
          ]
        }
      ]
    },
    {
      "cell_type": "code",
      "source": [
        "#loss plot 그리기\n",
        "plt.plot(train_loss_list)\n",
        "plt.plot(val_loss_list)\n",
        "plt.legend(['train','validation'])\n",
        "plt.title(\"Loss\")\n",
        "plt.xlabel(\"epoch\")\n",
        "plt.show()\n",
        "\n",
        "plt.plot(train_loss_list[:15])\n",
        "plt.plot(val_loss_list[:15])\n",
        "plt.legend(['train','validation'])\n",
        "plt.title(\"Loss\")\n",
        "plt.xlabel(\"epoch\")\n",
        "plt.show()"
      ],
      "metadata": {
        "colab": {
          "base_uri": "https://localhost:8080/",
          "height": 927
        },
        "id": "0uFRKvvMxnUq",
        "outputId": "2c4b7388-ae64-4dd6-cfde-9c2b9242c841"
      },
      "execution_count": 9,
      "outputs": [
        {
          "output_type": "display_data",
          "data": {
            "text/plain": [
              "<Figure size 640x480 with 1 Axes>"
            ],
            "image/png": "[encoded data removed]"
          },
          "metadata": {}
        },
        {
          "output_type": "display_data",
          "data": {
            "text/plain": [
              "<Figure size 640x480 with 1 Axes>"
            ],
            "image/png": "[encoded data removed]"
          },
          "metadata": {}
        }
      ]
    },
    {
      "cell_type": "code",
      "source": [
        "\n",
        "#Test set 예측\n",
        "# 평가 데이터로 예측 실시해서 정확도 확인\n",
        "# output은 미니배치의 결과가 산출되기 때문에 for문을 통해서 test 전체의 예측값을 구한다.\n",
        "\n",
        "correct = 0\n",
        "total = 0\n",
        "with torch.no_grad():\n",
        "    resnet.eval()\n",
        "    for data in testloader:\n",
        "        images, labels = data[0].to(device), data[1].to(device)\n",
        "        outputs = resnet(images)\n",
        "        _, predicted = torch.max(outputs.data, 1)\n",
        "        total += labels.size(0) # 개수 누적(총 개수)\n",
        "        correct += (predicted == labels).sum().item() # 누적(맞으면 1, 틀리면 0으로 합산)\n",
        "\n",
        "print('Test accuracy: %.2f %%' % (100 * correct / total))"
      ],
      "metadata": {
        "colab": {
          "base_uri": "https://localhost:8080/"
        },
        "id": "cAw-RQDd-Twm",
        "outputId": "6b440589-621f-4203-ac76-a641d0cd50a7"
      },
      "execution_count": 10,
      "outputs": [
        {
          "output_type": "stream",
          "name": "stdout",
          "text": [
            "Test accuracy: 90.02 %\n"
          ]
        }
      ]
    },
    {
      "cell_type": "code",
      "source": [],
      "metadata": {
        "id": "HA3u61gp-Wu9"
      },
      "execution_count": null,
      "outputs": []
    }
  ]
}