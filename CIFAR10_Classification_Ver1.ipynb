{
  "nbformat": 4,
  "nbformat_minor": 0,
  "metadata": {
    "colab": {
      "provenance": [],
      "gpuType": "T4",
      "mount_file_id": "1sNJcIdR6diz-SSdQbF7WaFpYwqye9sfq",
      "authorship_tag": "ABX9TyN6YR4verJZHzvJb5WIy9S7",
      "include_colab_link": true
    },
    "kernelspec": {
      "name": "python3",
      "display_name": "Python 3"
    },
    "language_info": {
      "name": "python"
    },
    "accelerator": "GPU"
  },
  "cells": [
    {
      "cell_type": "markdown",
      "metadata": {
        "id": "view-in-github",
        "colab_type": "text"
      },
      "source": [
        "<a href=\"https://colab.research.google.com/github/angkmfirefoxygal/CIFAR10_CNN/blob/main/CIFAR10_Classification_Ver1.ipynb\" target=\"_parent\"><img src=\"https://colab.research.google.com/assets/colab-badge.svg\" alt=\"Open In Colab\"/></a>"
      ]
    },
    {
      "cell_type": "code",
      "execution_count": 2,
      "metadata": {
        "id": "D_7X2HkapJqj"
      },
      "outputs": [],
      "source": [
        "# AS usual, a bit of setup\n",
        "# If you need other libraries, you should import the libraries.\n",
        "\n",
        "import os, sys\n",
        "import torch\n",
        "from torch import nn\n",
        "from torch.nn import functional as F\n",
        "\n",
        "import torchvision\n",
        "import torchvision.transforms as transforms\n",
        "import torchvision.datasets as datasets\n",
        "\n",
        "from torchvision.datasets import ImageFolder\n",
        "from torch.utils.data import DataLoader\n",
        "\n",
        "import matplotlib.pyplot as plt\n",
        "import numpy as np"
      ]
    },
    {
      "cell_type": "code",
      "source": [
        "# Set the device\n",
        "device = 'cuda' if torch.cuda.is_available() else 'cpu'\n",
        "print(device)"
      ],
      "metadata": {
        "colab": {
          "base_uri": "https://localhost:8080/"
        },
        "id": "ME905RDNpgq7",
        "outputId": "1af90b8e-1692-4b4e-85ce-d7a6588e9c28"
      },
      "execution_count": 3,
      "outputs": [
        {
          "output_type": "stream",
          "name": "stdout",
          "text": [
            "cuda\n"
          ]
        }
      ]
    },
    {
      "cell_type": "code",
      "source": [
        "# Data transforms (normalization & data augmentation)\n",
        "stats = ((0.4914, 0.4822, 0.4465), (0.2023, 0.1994, 0.2010))\n",
        "\n",
        "transforms_cifar10 = transforms.Compose([transforms.RandomCrop(32, padding=4, padding_mode='reflect'),\n",
        "                                        transforms.RandomHorizontalFlip(),\n",
        "                                        transforms.ToTensor(),\n",
        "                                        transforms.Normalize(*stats, inplace=True)])\n",
        "\n",
        "\n",
        "\n",
        "\n",
        "transforms_cifar10_test = transforms.Compose([transforms.Resize((32, 32)),\n",
        "                                  transforms.ToTensor(),\n",
        "                                  transforms.Normalize(*stats)])\n"
      ],
      "metadata": {
        "id": "5UR-4iCAp0PW"
      },
      "execution_count": 4,
      "outputs": []
    },
    {
      "cell_type": "code",
      "source": [],
      "metadata": {
        "id": "jnAdq7MqqEQA"
      },
      "execution_count": 14,
      "outputs": []
    },
    {
      "cell_type": "code",
      "source": [
        "# Train dataset\n",
        "trainset = datasets.CIFAR10(root='./data', train=True, download=True, transform=transforms_cifar10)\n",
        "trainloader = torch.utils.data.DataLoader(trainset, batch_size=4, shuffle=True, num_workers=2)\n",
        "\n",
        "# Test dataset\n",
        "testset = datasets.CIFAR10(root='./data', train=False, download=True, transform=transforms_cifar10_test)\n",
        "testloader = torch.utils.data.DataLoader(testset, batch_size=4, shuffle=False, num_workers=2)\n",
        "\n",
        "# Classes of CIFAR-10 dataset\n",
        "classes = (\"plane\", \"car\", \"bird\", \"cat\", \"deer\", \"dog\", \"frog\", \"horse\", \"ship\", \"truck\")"
      ],
      "metadata": {
        "id": "Ng5woJ_6t02e",
        "colab": {
          "base_uri": "https://localhost:8080/"
        },
        "outputId": "330191f3-5fe2-403a-9555-f804bf1e5a45"
      },
      "execution_count": 13,
      "outputs": [
        {
          "output_type": "stream",
          "name": "stdout",
          "text": [
            "Files already downloaded and verified\n",
            "Files already downloaded and verified\n"
          ]
        }
      ]
    },
    {
      "cell_type": "code",
      "source": [
        "# Examples of dataset\n",
        "\n",
        "def imshow(img):\n",
        "  img = img /2 + 0.5\n",
        "  npimg = img.numpy()\n",
        "  plt.imshow(np.transpose(npimg, (1, 2, 0)))\n",
        "\n",
        "dataiter = iter(trainloader)\n",
        "imgs, labels = next(dataiter)\n",
        "\n",
        "imshow(torchvision.utils.make_grid(imgs))\n",
        "print(' '.join('%5s' % classes[labels[j]] for j in range(4)))"
      ],
      "metadata": {
        "colab": {
          "base_uri": "https://localhost:8080/",
          "height": 229
        },
        "id": "HSmcclMF8aCE",
        "outputId": "5c99ca34-1fb8-446b-9505-77f720023477"
      },
      "execution_count": 14,
      "outputs": [
        {
          "output_type": "stream",
          "name": "stderr",
          "text": [
            "WARNING:matplotlib.image:Clipping input data to the valid range for imshow with RGB data ([0..1] for floats or [0..255] for integers).\n"
          ]
        },
        {
          "output_type": "stream",
          "name": "stdout",
          "text": [
            " bird truck plane   dog\n"
          ]
        },
        {
          "output_type": "display_data",
          "data": {
            "text/plain": [
              "<Figure size 640x480 with 1 Axes>"
            ],
            "image/png": "[encoded data removed]"
          },
          "metadata": {}
        }
      ]
    },
    {
      "cell_type": "code",
      "source": [
        "# Model\n",
        "\n",
        "class SimpleNet(nn.Module):\n",
        "    def __init__(self):\n",
        "        super(SimpleNet, self).__init__()\n",
        "        self.conv1 = nn.Conv2d(3, 6, 5) #(input channel, output channel, kernel_size, stride, padding)\n",
        "        self.pool = nn.MaxPool2d(2, 2)\n",
        "        self.conv2 = nn.Conv2d(6, 16, 5)\n",
        "        self.fc1 = nn.Linear(16 * 5 * 5, 120)\n",
        "        self.fc2 = nn.Linear(120, 84)\n",
        "        self.fc3 = nn.Linear(84, 10)\n",
        "\n",
        "    def forward(self, x):\n",
        "        x = self.pool(F.relu(self.conv1(x)))\n",
        "        x = self.pool(F.relu(self.conv2(x)))\n",
        "        x = x.view(-1, 16 * 5 * 5)\n",
        "        x = F.relu(self.fc1(x))\n",
        "        x = F.relu(self.fc2(x))\n",
        "        x = self.fc3(x)\n",
        "        return x\n",
        "\n",
        "\n",
        "net = SimpleNet().to(device)"
      ],
      "metadata": {
        "id": "zqMtmPhp89t7"
      },
      "execution_count": 15,
      "outputs": []
    },
    {
      "cell_type": "code",
      "source": [
        "# VGG Model\n",
        "\n",
        "cfg = {'VGG11': [64, 'M', 128, 'M', 256, 256, 'M', 512, 512, 'M', 512, 512, 'M']}\n",
        "\n",
        "class VGG11(nn.Module):\n",
        "    def __init__(self):\n",
        "        super(VGG11, self).__init__()\n",
        "        self.features = self.make_layers(cfg['VGG11'])\n",
        "        self.classifier = nn.Linear(512, 10)\n",
        "\n",
        "    def make_layers(self, cfg):\n",
        "        layers = []\n",
        "        in_channels = 3\n",
        "        for x in cfg:\n",
        "            if x == 'M':\n",
        "                layers += [nn.MaxPool2d(kernel_size=2, stride=2)]\n",
        "            else:\n",
        "                layers += [nn.Conv2d(in_channels, x, kernel_size=3, padding=1),\n",
        "                           nn.BatchNorm2d(x),\n",
        "                           nn.ReLU(inplace=True)]\n",
        "                in_channels = x\n",
        "        layers += [nn.AvgPool2d(kernel_size=1, stride=1)]\n",
        "        return nn.Sequential(*layers)\n",
        "\n",
        "\n",
        "    def forward(self, x):\n",
        "        out = self.features(x)\n",
        "        out = out.view(out.size(0), -1)\n",
        "        out = self.classifier(out)\n",
        "        return out\n",
        "\n",
        "\n",
        "net = VGG11().to(device)"
      ],
      "metadata": {
        "id": "RPRGw87v_Hhr"
      },
      "execution_count": 16,
      "outputs": []
    },
    {
      "cell_type": "code",
      "source": [
        "# Loss function and optimizer\n",
        "criterion = nn.CrossEntropyLoss()\n",
        "optimizer = torch.optim.Adam(net.parameters(), lr=0.001)\n",
        "scheduler = torch.optim.lr_scheduler.StepLR(optimizer, step_size=10, gamma=0.1)"
      ],
      "metadata": {
        "id": "QN__KbZv_KAb"
      },
      "execution_count": 17,
      "outputs": []
    },
    {
      "cell_type": "code",
      "source": [
        "# Train the model\n",
        "epochs = 10  # number of epochs\n",
        "\n",
        "for epoch in range(epochs):\n",
        "\n",
        "    loss_tmp = 0.0\n",
        "    epoch_loss = 0.0\n",
        "    for i, data in enumerate(trainloader, start=0):\n",
        "        # Load the data\n",
        "        inputs, labels = data\n",
        "        inputs = inputs.to(device)\n",
        "        labels = labels.to(device)\n",
        "\n",
        "        # Estimate the output using the network\n",
        "        outputs = net(inputs)\n",
        "\n",
        "        # Calculate the loss between the output of the network and label\n",
        "        loss = criterion(outputs, labels)\n",
        "\n",
        "        # Optimize the network\n",
        "        optimizer.zero_grad()\n",
        "        loss.backward()\n",
        "        optimizer.step()\n",
        "\n",
        "        loss_tmp += loss.data\n",
        "        epoch_loss += loss.data\n",
        "\n",
        "        if i % 5000 == 4999:    # Print loss every 5000 mini-batches\n",
        "            print('[Epoch - %d, Iteration - %5d] Loss: %.3f' %\n",
        "                  (epoch + 1, i + 1, loss_tmp / (i+1)))\n",
        "            loss_tmp = 0.0\n",
        "\n",
        "    # Update the learning rate according to the learnig rate scheduler\n",
        "    scheduler.step()\n",
        "\n",
        "    # Print the epoch loss\n",
        "    print('[Epoch - %d] Loss: %.3f' %(epoch + 1, epoch_loss / (i+1)))\n",
        "\n",
        "print('Finished Training')\n",
        ""
      ],
      "metadata": {
        "colab": {
          "base_uri": "https://localhost:8080/"
        },
        "id": "uIsNPQBR_OLT",
        "outputId": "a0662804-49a6-411f-f7c4-4130571aab28"
      },
      "execution_count": 23,
      "outputs": [
        {
          "output_type": "stream",
          "name": "stdout",
          "text": [
            "[Epoch - 1, Iteration -  5000] Loss: 0.727\n",
            "[Epoch - 1, Iteration - 10000] Loss: 0.354\n",
            "[Epoch - 1] Loss: 0.716\n",
            "[Epoch - 2, Iteration -  5000] Loss: 0.664\n",
            "[Epoch - 2, Iteration - 10000] Loss: 0.322\n",
            "[Epoch - 2] Loss: 0.650\n",
            "[Epoch - 3, Iteration -  5000] Loss: 0.602\n",
            "[Epoch - 3, Iteration - 10000] Loss: 0.294\n",
            "[Epoch - 3] Loss: 0.594\n",
            "[Epoch - 4, Iteration -  5000] Loss: 0.558\n",
            "[Epoch - 4, Iteration - 10000] Loss: 0.274\n",
            "[Epoch - 4] Loss: 0.553\n",
            "[Epoch - 5, Iteration -  5000] Loss: 0.525\n",
            "[Epoch - 5, Iteration - 10000] Loss: 0.258\n",
            "[Epoch - 5] Loss: 0.520\n",
            "[Epoch - 6, Iteration -  5000] Loss: 0.416\n",
            "[Epoch - 6, Iteration - 10000] Loss: 0.193\n",
            "[Epoch - 6] Loss: 0.396\n",
            "[Epoch - 7, Iteration -  5000] Loss: 0.362\n",
            "[Epoch - 7, Iteration - 10000] Loss: 0.181\n",
            "[Epoch - 7] Loss: 0.367\n",
            "[Epoch - 8, Iteration -  5000] Loss: 0.358\n",
            "[Epoch - 8, Iteration - 10000] Loss: 0.176\n",
            "[Epoch - 8] Loss: 0.354\n",
            "[Epoch - 9, Iteration -  5000] Loss: 0.344\n",
            "[Epoch - 9, Iteration - 10000] Loss: 0.169\n",
            "[Epoch - 9] Loss: 0.337\n",
            "[Epoch - 10, Iteration -  5000] Loss: 0.333\n",
            "[Epoch - 10, Iteration - 10000] Loss: 0.166\n",
            "[Epoch - 10] Loss: 0.332\n",
            "Finished Training\n"
          ]
        }
      ]
    },
    {
      "cell_type": "code",
      "source": [
        "# Test the trained model with sample\n",
        "\n",
        "dataiter_test = iter(testloader)\n",
        "img_test, labels_test = next(dataiter_test)\n",
        "\n",
        "imshow(torchvision.utils.make_grid(img_test))\n",
        "print('GroundTruth: ', ' '.join('%5s' % classes[labels_test[j]] for j in range(4)))\n",
        "\n",
        "img_test = img_test.to(device)\n",
        "labels_test = labels_test.to(device)\n",
        "\n",
        "# Prediction\n",
        "outputs_test = net(img_test)\n",
        "_, predicted = torch.max(outputs_test.data, 1)\n",
        "print('Predicted: ', ' '.join('%5s' % classes[predicted[j]] for j in range(4)))"
      ],
      "metadata": {
        "colab": {
          "base_uri": "https://localhost:8080/",
          "height": 247
        },
        "id": "dcouxvwT_TqG",
        "outputId": "2d419e52-9bce-41a9-8458-88c2c2a3d348"
      },
      "execution_count": 24,
      "outputs": [
        {
          "output_type": "stream",
          "name": "stderr",
          "text": [
            "WARNING:matplotlib.image:Clipping input data to the valid range for imshow with RGB data ([0..1] for floats or [0..255] for integers).\n"
          ]
        },
        {
          "output_type": "stream",
          "name": "stdout",
          "text": [
            "GroundTruth:    cat  ship  ship plane\n",
            "Predicted:    cat  ship  ship plane\n"
          ]
        },
        {
          "output_type": "display_data",
          "data": {
            "text/plain": [
              "<Figure size 640x480 with 1 Axes>"
            ],
            "image/png": "[encoded data removed]"
          },
          "metadata": {}
        }
      ]
    },
    {
      "cell_type": "code",
      "source": [
        "# Test the trained model with overall test dataset\n",
        "\n",
        "correct = 0\n",
        "total = 0\n",
        "for data in testloader:\n",
        "    # Load the data\n",
        "    inputs_test, labels_test = data\n",
        "    inputs_test = inputs_test.to(device)\n",
        "    labels_test = labels_test.to(device)\n",
        "\n",
        "    # Estimate the output using the trained network\n",
        "    outputs_test = net(inputs_test)\n",
        "    _, predicted = torch.max(outputs_test.data, 1)\n",
        "\n",
        "    # Calculate the accuracy\n",
        "    total += labels_test.size(0)\n",
        "    correct += (predicted == labels_test).sum()\n",
        "\n",
        "# Final accuracy\n",
        "print('Accuracy of the network on the 10,000 test images: %d %%' % (100 * correct / total))"
      ],
      "metadata": {
        "colab": {
          "base_uri": "https://localhost:8080/"
        },
        "id": "tETRAtMDAHIx",
        "outputId": "5af3fb7a-4704-4942-c4cc-d9ca47afde8d"
      },
      "execution_count": 25,
      "outputs": [
        {
          "output_type": "stream",
          "name": "stdout",
          "text": [
            "Accuracy of the network on the 10,000 test images: 86 %\n"
          ]
        }
      ]
    },
    {
      "cell_type": "code",
      "source": [],
      "metadata": {
        "id": "DEB0M8p4DSDz"
      },
      "execution_count": null,
      "outputs": []
    }
  ]
}