{
  "cells": [
    {
      "cell_type": "markdown",
      "metadata": {
        "id": "view-in-github",
        "colab_type": "text"
      },
      "source": [
        "<a href=\"https://colab.research.google.com/github/angkmfirefoxygal/CIFAR10_CNN/blob/main/CIFAR10_Classification_withReg%26NoDropout_ver3.ipynb\" target=\"_parent\"><img src=\"https://colab.research.google.com/assets/colab-badge.svg\" alt=\"Open In Colab\"/></a>"
      ]
    },
    {
      "cell_type": "code",
      "execution_count": 48,
      "metadata": {
        "id": "WQlpTfXZnMsV",
        "colab": {
          "base_uri": "https://localhost:8080/"
        },
        "outputId": "70b2a5e9-c776-45c9-e292-0a61e45a2930"
      },
      "outputs": [
        {
          "output_type": "stream",
          "name": "stdout",
          "text": [
            "cuda\n"
          ]
        }
      ],
      "source": [
        "# AS usual, a bit of setup\n",
        "# If you need other libraries, you should import the libraries.\n",
        "\n",
        "import os, sys\n",
        "import torch\n",
        "from torch import nn\n",
        "from torch.nn import functional as F\n",
        "\n",
        "import torchvision\n",
        "import torch.nn as nn\n",
        "import torch.optim as optim\n",
        "import torchvision.transforms as transforms\n",
        "import torchvision.datasets as datasets\n",
        "\n",
        "from torchvision.datasets import ImageFolder\n",
        "from torch.utils.data import DataLoader\n",
        "\n",
        "import matplotlib.pyplot as plt\n",
        "import numpy as np\n",
        "\n",
        "# Set the device\n",
        "device = 'cuda' if torch.cuda.is_available() else 'cpu'\n",
        "print(device)"
      ]
    },
    {
      "cell_type": "code",
      "execution_count": 49,
      "metadata": {
        "id": "VMff3-YZ3hf_",
        "colab": {
          "base_uri": "https://localhost:8080/"
        },
        "outputId": "b58a02cf-594d-4db6-9868-5070845728be"
      },
      "outputs": [
        {
          "output_type": "stream",
          "name": "stdout",
          "text": [
            "Files already downloaded and verified\n",
            "Files already downloaded and verified\n"
          ]
        }
      ],
      "source": [
        "#정규화 방식 정의\n",
        "# transform = transforms.Compose(\n",
        "#     [transforms.ToTensor(),\n",
        "#      transforms.Normalize((0.4914, 0.4822, 0.4465), (0.2023, 0.1994, 0.2010))] #.Normalize([meanR, meanG, meanB], [stdR, stdG, stdB])\n",
        "# )\n",
        "\n",
        "transform = transforms.Compose([\n",
        "    transforms.RandomCrop(32, padding=4),\n",
        "    transforms.RandomHorizontalFlip(),\n",
        "    transforms.RandomRotation(15),\n",
        "    transforms.ToTensor(),\n",
        "    transforms.Normalize((0.4914, 0.4822, 0.4465), (0.2023, 0.1994, 0.2010))\n",
        "])\n",
        "\n",
        "# 학습용 데이터 불러오기\n",
        "dataset = torchvision.datasets.CIFAR10(root = './data', train=True, download=True, transform = transform) #dataset = 5만개\n",
        "trainset, valset = torch.utils.data.random_split(dataset, [30000,20000])\n",
        "\n",
        "trainloader = torch.utils.data.DataLoader(trainset, batch_size=32, shuffle=True, num_workers=2)\n",
        "valloader = torch.utils.data.DataLoader(valset, batch_size=32, shuffle=False)\n",
        "\n",
        "#테스트용 데이터 불러오기\n",
        "testset = torchvision.datasets.CIFAR10(root ='./data', train=False, download=True, transform = transform)\n",
        "testloader = torch.utils.data.DataLoader(testset, batch_size=32, shuffle=False, num_workers=2)\n",
        "\n",
        "\n",
        "# Classes of CIFAR-10 dataset\n",
        "classes = (\"plane\", \"car\", \"bird\", \"cat\", \"deer\", \"dog\", \"frog\", \"horse\", \"ship\", \"truck\")\n"
      ]
    },
    {
      "cell_type": "code",
      "source": [
        "print(len(trainloader.dataset))\n",
        "print(len(valloader.dataset))"
      ],
      "metadata": {
        "colab": {
          "base_uri": "https://localhost:8080/"
        },
        "id": "QdYVUXCUk-NE",
        "outputId": "f5c5c718-5587-40c3-b1a0-671f2f3bd847"
      },
      "execution_count": 50,
      "outputs": [
        {
          "output_type": "stream",
          "name": "stdout",
          "text": [
            "30000\n",
            "20000\n"
          ]
        }
      ]
    },
    {
      "cell_type": "code",
      "source": [
        "def validation_loss(dataloader):\n",
        "  n = len(dataloader)\n",
        "  running_loss = 0\n",
        "\n",
        "  with torch.no_grad():   #평가만 하기 때문에 requires_grad 비활성화\n",
        "    resnet.eval()  #정규화 기법들이 작동하지 않도록 eval 모드로 설정\n",
        "    for data in dataloader:\n",
        "      images, labels = data[0].to(device), data[1].to(device)\n",
        "      outputs = resnet(images)\n",
        "      loss= criterion(outputs, labels)\n",
        "      running_loss += loss.item()\n",
        "\n",
        "    resnet.train()  #모델을 다시 train 모드로 변경\n",
        "\n",
        "    return running_loss/n"
      ],
      "metadata": {
        "id": "YBi_YUoClMuP"
      },
      "execution_count": 51,
      "outputs": []
    },
    {
      "cell_type": "code",
      "execution_count": 52,
      "metadata": {
        "id": "OZWFbucC4Ij_"
      },
      "outputs": [],
      "source": [
        "class ResidualBlock(nn.Module):\n",
        "\n",
        "    def __init__(self, in_channels, out_channels, stride=1):\n",
        "        super(ResidualBlock, self).__init__()\n",
        "        self.stride = stride\n",
        "        self.in_channels = in_channels\n",
        "        self.out_channels = out_channels\n",
        "\n",
        "        self.conv_block = nn.Sequential(\n",
        "            nn.Conv2d(self.in_channels, self.out_channels, kernel_size=3, stride=stride, padding=1, bias=False),\n",
        "            nn.BatchNorm2d(self.out_channels),\n",
        "            nn.ReLU(),\n",
        "            nn.Conv2d(self.out_channels, self.out_channels, kernel_size=3, stride=1, padding=1, bias=False),\n",
        "            nn.BatchNorm2d(self.out_channels))\n",
        "\n",
        "        if self.stride != 1 or self.in_channels != self.out_channels:\n",
        "            self.downsample = nn.Sequential(\n",
        "                            nn.Conv2d(self.in_channels, self.out_channels, kernel_size=1, stride=stride, bias=False),\n",
        "                            nn.BatchNorm2d(self.out_channels))\n",
        "\n",
        "    def forward(self, x):\n",
        "        out = self.conv_block(x)\n",
        "        if self.stride != 1 or self.in_channels != self.out_channels:\n",
        "            x = self.downsample(x)\n",
        "\n",
        "        out = F.relu(x + out)\n",
        "        return out\n",
        "class ResNet(nn.Module):\n",
        "    def __init__(self, num_blocks, num_classes=10):\n",
        "        super(ResNet, self).__init__()\n",
        "        self.in_channels = 64\n",
        "        self.base = nn.Sequential(\n",
        "                        nn.Conv2d(3, 64, kernel_size=3,stride=1, padding=1, bias=False),\n",
        "                        nn.BatchNorm2d(64),\n",
        "                        nn.ReLU())\n",
        "        self.layer1 = self._make_layer(64, num_blocks[0], stride=1)\n",
        "        self.layer2 = self._make_layer(128, num_blocks[1], stride=2)\n",
        "        self.layer3 = self._make_layer(256, num_blocks[2], stride=2)\n",
        "        self.layer4 = self._make_layer(512, num_blocks[3], stride=2)\n",
        "        self.gap = nn.AvgPool2d(4) # 4: 필터 사이즈\n",
        "        self.fc = nn.Linear(512, num_classes)\n",
        "\n",
        "    def _make_layer(self, out_channels, num_blocks, stride):\n",
        "\n",
        "        strides = [stride] + [1]*(num_blocks-1)\n",
        "        layers = []\n",
        "        for stride in strides:\n",
        "            block = ResidualBlock(self.in_channels, out_channels, stride)\n",
        "            layers.append(block)\n",
        "            self.in_channels = out_channels\n",
        "\n",
        "        return nn.Sequential(*layers)\n",
        "\n",
        "    def forward(self, x):\n",
        "        out = self.base(x)\n",
        "        out = self.layer1(out)\n",
        "        out = self.layer2(out)\n",
        "        out = self.layer3(out)\n",
        "        out = self.layer4(out)\n",
        "        out = self.gap(out)\n",
        "        out = out.view(out.size(0), -1)\n",
        "        out = self.fc(out)\n",
        "        return out\n",
        "\n",
        "def modeltype(model):\n",
        "    if model == 'resnet18':\n",
        "        return ResNet([2, 2, 2, 2])\n",
        "\n",
        "    elif model == 'resnet34':\n",
        "        return ResNet([3, 4, 6, 3])\n",
        "resnet = modeltype('resnet18').to(device)"
      ]
    },
    {
      "cell_type": "code",
      "execution_count": 53,
      "metadata": {
        "id": "5Gg5n6Yo5Poa"
      },
      "outputs": [],
      "source": [
        "criterion = nn.CrossEntropyLoss()\n",
        "optimizer = optim.Adam(resnet.parameters(), lr=1e-3)\n",
        "# scheduler = torch.optim.lr_scheduler.CosineAnnealingLR(optimizer, 5, eta_min=0)"
      ]
    },
    {
      "cell_type": "code",
      "execution_count": 54,
      "metadata": {
        "id": "uvJNtjWq5H94",
        "colab": {
          "base_uri": "https://localhost:8080/"
        },
        "outputId": "81fd88d0-ad8a-4d7f-c66f-2d560df247ad"
      },
      "outputs": [
        {
          "output_type": "stream",
          "name": "stdout",
          "text": [
            "[1] train loss : 1.681, validation loss : 1.387\n",
            "[2] train loss : 1.296, validation loss : 1.177\n",
            "[3] train loss : 1.095, validation loss : 1.028\n",
            "[4] train loss : 0.993, validation loss : 0.956\n",
            "[5] train loss : 0.889, validation loss : 0.861\n",
            "[6] train loss : 0.796, validation loss : 0.867\n",
            "[7] train loss : 0.720, validation loss : 0.730\n",
            "[8] train loss : 0.658, validation loss : 0.673\n",
            "[9] train loss : 0.615, validation loss : 0.629\n",
            "[10] train loss : 0.566, validation loss : 0.575\n",
            "[11] train loss : 0.529, validation loss : 0.610\n",
            "[12] train loss : 0.499, validation loss : 0.574\n",
            "[13] train loss : 0.472, validation loss : 0.554\n",
            "[14] train loss : 0.445, validation loss : 0.523\n",
            "[15] train loss : 0.426, validation loss : 0.501\n",
            "[16] train loss : 0.404, validation loss : 0.497\n",
            "[17] train loss : 0.382, validation loss : 0.516\n",
            "[18] train loss : 0.365, validation loss : 0.484\n",
            "[19] train loss : 0.341, validation loss : 0.463\n",
            "[20] train loss : 0.326, validation loss : 0.483\n",
            "[21] train loss : 0.310, validation loss : 0.443\n",
            "[22] train loss : 0.300, validation loss : 0.434\n",
            "[23] train loss : 0.287, validation loss : 0.443\n",
            "[24] train loss : 0.272, validation loss : 0.432\n",
            "[25] train loss : 0.257, validation loss : 0.438\n",
            "[26] train loss : 0.246, validation loss : 0.449\n",
            "[27] train loss : 0.237, validation loss : 0.397\n",
            "[28] train loss : 0.230, validation loss : 0.446\n",
            "[29] train loss : 0.218, validation loss : 0.413\n",
            "[30] train loss : 0.205, validation loss : 0.470\n"
          ]
        }
      ],
      "source": [
        "train_loss_list = []\n",
        "val_loss_list = []\n",
        "n = len(trainloader) # 매 에폭마다 평균 loss 값 계산 위해서\n",
        "early_stopping_loss = 1 # 가장 낮은 loss 함수 값에 해당하는 모델 저장 위해서, 초기 기준 1로 설정\n",
        "#배치 데이터 받아서 학습 진행\n",
        "for epoch in range(30):\n",
        "    running_loss = 0\n",
        "    for data in trainloader:\n",
        "        inputs, labels = data[0].to(device), data[1].to(device)\n",
        "        optimizer.zero_grad()\n",
        "        outputs = resnet(inputs)\n",
        "        loss= criterion(outputs, labels)\n",
        "        loss.backward()\n",
        "        optimizer.step()\n",
        "\n",
        "        running_loss += loss.item()\n",
        "\n",
        "    #배치 완료할 때 마다 평균 loss 값 계산\n",
        "    train_loss = running_loss / n\n",
        "    train_loss_list.append(train_loss)\n",
        "    val_loss = validation_loss(valloader)\n",
        "    val_loss_list.append(val_loss)\n",
        "\n",
        "    print('[%d] train loss : %.3f, validation loss : %.3f' %(epoch +1, train_loss, val_loss))\n",
        "\n",
        "    #현재 val 에서 loss 값이 기준보다 작으면 모델 저장 (train, val의 loss 함수 값과 에폭)\n",
        "    if val_loss < early_stopping_loss:\n",
        "        # torch.save(resnet.state_dict(), PATH)\n",
        "        early_stopping_train_loss = train_loss\n",
        "        early_stopping_val_loss = val_loss\n",
        "        early_stopping_epoch = epoch\n",
        "\n",
        "#학습 끝나면 조기종료한 에폭과 손실함수 값 출력\n",
        "# print('Final pretrained model >> [%d] train loss: %.3f , validation loss: %.3f' %(early_stopping_epoch + 1,\n",
        "#                                                         early_stopping_train_loss, early_stopping_val_loss))\n"
      ]
    },
    {
      "cell_type": "code",
      "execution_count": 55,
      "metadata": {
        "colab": {
          "base_uri": "https://localhost:8080/",
          "height": 927
        },
        "id": "eO1CEzEU6G0H",
        "outputId": "2f36d699-7772-4411-bdd1-656c204294c6"
      },
      "outputs": [
        {
          "output_type": "display_data",
          "data": {
            "text/plain": [
              "<Figure size 640x480 with 1 Axes>"
            ],
            "image/png": "[encoded data removed]"
          },
          "metadata": {}
        },
        {
          "output_type": "display_data",
          "data": {
            "text/plain": [
              "<Figure size 640x480 with 1 Axes>"
            ],
            "image/png": "[encoded data removed]"
          },
          "metadata": {}
        }
      ],
      "source": [
        "#loss plot 그리기\n",
        "plt.plot(train_loss_list)\n",
        "plt.plot(val_loss_list)\n",
        "plt.legend(['train','validation'])\n",
        "plt.title(\"Loss\")\n",
        "plt.xlabel(\"epoch\")\n",
        "plt.show()\n",
        "\n",
        "plt.plot(train_loss_list[:15])\n",
        "plt.plot(val_loss_list[:15])\n",
        "plt.legend(['train','validation'])\n",
        "plt.title(\"Loss\")\n",
        "plt.xlabel(\"epoch\")\n",
        "plt.show()"
      ]
    },
    {
      "cell_type": "code",
      "execution_count": 56,
      "metadata": {
        "colab": {
          "base_uri": "https://localhost:8080/"
        },
        "id": "ESreiMh_7Jv6",
        "outputId": "62b30617-2137-409f-a13d-14315c161180"
      },
      "outputs": [
        {
          "output_type": "stream",
          "name": "stdout",
          "text": [
            "Test accuracy: 85.64 %\n"
          ]
        }
      ],
      "source": [
        "#Test set 예측\n",
        "# 평가 데이터로 예측 실시해서 정확도 확인\n",
        "# output은 미니배치의 결과가 산출되기 때문에 for문을 통해서 test 전체의 예측값을 구한다.\n",
        "\n",
        "correct = 0\n",
        "total = 0\n",
        "with torch.no_grad():\n",
        "    resnet.eval()\n",
        "    for data in testloader:\n",
        "        images, labels = data[0].to(device), data[1].to(device)\n",
        "        outputs = resnet(images)\n",
        "        _, predicted = torch.max(outputs.data, 1)\n",
        "        total += labels.size(0) # 개수 누적(총 개수)\n",
        "        correct += (predicted == labels).sum().item() # 누적(맞으면 1, 틀리면 0으로 합산)\n",
        "\n",
        "print('Test accuracy: %.2f %%' % (100 * correct / total))\n",
        ""
      ]
    },
    {
      "cell_type": "code",
      "source": [
        "correct = 0\n",
        "total = 0\n",
        "net = ResNet.to(device)\n",
        "\n",
        "for data in testloader:\n",
        "    # Load the data\n",
        "    inputs_test, labels_test = data\n",
        "    inputs_test = inputs_test.to(device)\n",
        "    labels_test = labels_test.to(device)\n",
        "\n",
        "    # Estimate the output using the trained network\n",
        "    outputs_test = net(inputs_test)\n",
        "    _, predicted = torch.max(outputs_test.data, 1)\n",
        "\n",
        "    # Calculate the accuracy\n",
        "    total += labels_test.size(0)\n",
        "    correct += (predicted == labels_test).sum()\n",
        "\n",
        "# Final accuracy\n",
        "print('Accuracy of the network on the 10,000 test images: %d %%' % (100 * correct / total))"
      ],
      "metadata": {
        "id": "4VM87bzK6UdQ"
      },
      "execution_count": null,
      "outputs": []
    }
  ],
  "metadata": {
    "colab": {
      "provenance": [],
      "gpuType": "T4",
      "authorship_tag": "ABX9TyPcj0Y30yb5/qlcArfKurVp",
      "include_colab_link": true
    },
    "kernelspec": {
      "display_name": "Python 3",
      "name": "python3"
    },
    "language_info": {
      "name": "python"
    },
    "accelerator": "GPU"
  },
  "nbformat": 4,
  "nbformat_minor": 0
}