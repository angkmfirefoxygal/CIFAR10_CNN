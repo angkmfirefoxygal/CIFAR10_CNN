{
  "nbformat": 4,
  "nbformat_minor": 0,
  "metadata": {
    "colab": {
      "provenance": [],
      "gpuType": "T4",
      "authorship_tag": "ABX9TyMEBavRgusCeektH3XTK9Yq",
      "include_colab_link": true
    },
    "kernelspec": {
      "name": "python3",
      "display_name": "Python 3"
    },
    "language_info": {
      "name": "python"
    },
    "accelerator": "GPU"
  },
  "cells": [
    {
      "cell_type": "markdown",
      "metadata": {
        "id": "view-in-github",
        "colab_type": "text"
      },
      "source": [
        "<a href=\"https://colab.research.google.com/github/angkmfirefoxygal/CIFAR10_CNN/blob/main/CIFAR10_Classification_withResNet_final.ipynb\" target=\"_parent\"><img src=\"https://colab.research.google.com/assets/colab-badge.svg\" alt=\"Open In Colab\"/></a>"
      ]
    },
    {
      "cell_type": "code",
      "execution_count": 25,
      "metadata": {
        "colab": {
          "base_uri": "https://localhost:8080/"
        },
        "id": "DHJQAWptwtqv",
        "outputId": "8fa86ae2-e25c-474b-acfc-b433f1578948"
      },
      "outputs": [
        {
          "output_type": "stream",
          "name": "stdout",
          "text": [
            "cuda\n"
          ]
        }
      ],
      "source": [
        "# AS usual, a bit of setup\n",
        "# If you need other libraries, you should import the libraries.\n",
        "\n",
        "import os, sys\n",
        "import torch\n",
        "from torch import nn\n",
        "from torch.nn import functional as F\n",
        "\n",
        "import torchvision\n",
        "import torch.nn as nn\n",
        "import torch.optim as optim\n",
        "import torchvision.transforms as transforms\n",
        "import torchvision.datasets as datasets\n",
        "\n",
        "from torchvision.datasets import ImageFolder\n",
        "from torch.utils.data import DataLoader\n",
        "\n",
        "import matplotlib.pyplot as plt\n",
        "import numpy as np\n",
        "\n",
        "# Set the device\n",
        "device = 'cuda' if torch.cuda.is_available() else 'cpu'\n",
        "print(device)"
      ]
    },
    {
      "cell_type": "code",
      "source": [
        "\n",
        "#정규화 방식 정의\n",
        "transform = transforms.Compose(\n",
        "    [transforms.ToTensor(),\n",
        "     transforms.Normalize((0.4914, 0.4822, 0.4465), (0.2023, 0.1994, 0.2010))] #.Normalize([meanR, meanG, meanB], [stdR, stdG, stdB])\n",
        ")\n",
        "\n",
        "transform_train = transforms.Compose([\n",
        "    transforms.RandomCrop(32, padding=4),\n",
        "    transforms.RandomHorizontalFlip(),\n",
        "    transforms.RandomRotation(15),\n",
        "    transforms.ToTensor(),\n",
        "    transforms.Normalize((0.4914, 0.4822, 0.4465), (0.2023, 0.1994, 0.2010))\n",
        "])\n",
        "\n",
        "\n",
        "# 학습용 데이터 불러오기\n",
        "dataset = torchvision.datasets.CIFAR10(root = './data', train=True, download=True, transform = transform) #dataset = 5만개\n",
        "trainset, valset = torch.utils.data.random_split(dataset, [40000,10000])\n",
        "\n",
        "trainset.dataset.transform = transform_train\n",
        "\n",
        "trainloader = torch.utils.data.DataLoader(trainset, batch_size=128, shuffle=True, num_workers=2)\n",
        "valloader = torch.utils.data.DataLoader(valset, batch_size=128, shuffle=False)\n",
        "\n",
        "\n",
        "\n",
        "#테스트용 데이터 불러오기\n",
        "testset = torchvision.datasets.CIFAR10(root ='./data', train=False, download=True, transform = transform)\n",
        "testloader = torch.utils.data.DataLoader(testset, batch_size=32, shuffle=False, num_workers=2)\n",
        "\n",
        "\n",
        "# Classes of CIFAR-10 dataset\n",
        "classes = (\"plane\", \"car\", \"bird\", \"cat\", \"deer\", \"dog\", \"frog\", \"horse\", \"ship\", \"truck\")"
      ],
      "metadata": {
        "colab": {
          "base_uri": "https://localhost:8080/"
        },
        "id": "XYvmqJV-w2bQ",
        "outputId": "06c9ab12-f886-4a48-e310-d65f09f41be2"
      },
      "execution_count": 26,
      "outputs": [
        {
          "output_type": "stream",
          "name": "stdout",
          "text": [
            "Files already downloaded and verified\n",
            "Files already downloaded and verified\n"
          ]
        }
      ]
    },
    {
      "cell_type": "code",
      "source": [
        "print(len(trainloader.dataset))\n",
        "print(len(valloader.dataset))"
      ],
      "metadata": {
        "colab": {
          "base_uri": "https://localhost:8080/"
        },
        "id": "Hkwg3sE5xKt7",
        "outputId": "61973b5b-6940-46fa-cbe9-1034917b1cbc"
      },
      "execution_count": 27,
      "outputs": [
        {
          "output_type": "stream",
          "name": "stdout",
          "text": [
            "40000\n",
            "10000\n"
          ]
        }
      ]
    },
    {
      "cell_type": "code",
      "source": [
        "def validation_loss(dataloader):\n",
        "  n = len(dataloader)\n",
        "  running_loss = 0\n",
        "\n",
        "  with torch.no_grad():   #평가만 하기 때문에 requires_grad 비활성화\n",
        "    resnet.eval()  #정규화 기법들이 작동하지 않도록 eval 모드로 설정\n",
        "    for data in dataloader:\n",
        "      images, labels = data[0].to(device), data[1].to(device)\n",
        "      outputs = resnet(images)\n",
        "      loss= criterion(outputs, labels)\n",
        "      running_loss += loss.item()\n",
        "\n",
        "    resnet.train()  #모델을 다시 train 모드로 변경\n",
        "\n",
        "    return running_loss/n"
      ],
      "metadata": {
        "id": "AAgUHGYVxY6N"
      },
      "execution_count": 28,
      "outputs": []
    },
    {
      "cell_type": "code",
      "source": [
        "\n",
        "class ResidualBlock(nn.Module):\n",
        "\n",
        "    def __init__(self, in_channels, out_channels, stride=1):\n",
        "        super(ResidualBlock, self).__init__()\n",
        "        self.stride = stride\n",
        "        self.in_channels = in_channels\n",
        "        self.out_channels = out_channels\n",
        "\n",
        "        self.conv_block = nn.Sequential(\n",
        "            nn.Conv2d(self.in_channels, self.out_channels, kernel_size=3, stride=stride, padding=1, bias=False),\n",
        "            nn.BatchNorm2d(self.out_channels),\n",
        "            nn.ReLU(),\n",
        "            nn.Conv2d(self.out_channels, self.out_channels, kernel_size=3, stride=1, padding=1, bias=False),\n",
        "            nn.BatchNorm2d(self.out_channels))\n",
        "\n",
        "        if self.stride != 1 or self.in_channels != self.out_channels:\n",
        "            self.downsample = nn.Sequential(\n",
        "                            nn.Conv2d(self.in_channels, self.out_channels, kernel_size=1, stride=stride, bias=False),\n",
        "                            nn.BatchNorm2d(self.out_channels))\n",
        "\n",
        "    def forward(self, x):\n",
        "        out = self.conv_block(x)\n",
        "        if self.stride != 1 or self.in_channels != self.out_channels:\n",
        "            x = self.downsample(x)\n",
        "\n",
        "        out = F.relu(x + out)\n",
        "        return out\n",
        "class ResNet(nn.Module):\n",
        "    def __init__(self, num_blocks, num_classes=10):\n",
        "        super(ResNet, self).__init__()\n",
        "        self.in_channels = 64\n",
        "        self.base = nn.Sequential(\n",
        "                        nn.Conv2d(3, 64, kernel_size=3,stride=1, padding=1, bias=False),\n",
        "                        nn.BatchNorm2d(64),\n",
        "                        nn.ReLU())\n",
        "        self.layer1 = self._make_layer(64, num_blocks[0], stride=1)\n",
        "        self.layer2 = self._make_layer(128, num_blocks[1], stride=2)\n",
        "        self.layer3 = self._make_layer(256, num_blocks[2], stride=2)\n",
        "        self.layer4 = self._make_layer(512, num_blocks[3], stride=2)\n",
        "        self.gap = nn.AvgPool2d(4) # 4: 필터 사이즈\n",
        "        self.fc = nn.Linear(512, num_classes)\n",
        "\n",
        "    def _make_layer(self, out_channels, num_blocks, stride):\n",
        "\n",
        "        strides = [stride] + [1]*(num_blocks-1)\n",
        "        layers = []\n",
        "        for stride in strides:\n",
        "            block = ResidualBlock(self.in_channels, out_channels, stride)\n",
        "            layers.append(block)\n",
        "            self.in_channels = out_channels\n",
        "\n",
        "        return nn.Sequential(*layers)\n",
        "\n",
        "    def forward(self, x):\n",
        "        out = self.base(x)\n",
        "        out = self.layer1(out)\n",
        "        out = self.layer2(out)\n",
        "        out = self.layer3(out)\n",
        "        out = self.layer4(out)\n",
        "        out = self.gap(out)\n",
        "        out = out.view(out.size(0), -1)\n",
        "        out = self.fc(out)\n",
        "        return out\n",
        "\n",
        "def modeltype(model):\n",
        "    if model == 'resnet18':\n",
        "        return ResNet([2, 2, 2, 2])\n",
        "    elif model == 'resnet34':\n",
        "        return ResNet([3, 4, 6, 3])\n",
        "    elif model == 'resnet50':\n",
        "        return ResNet([3, 4, 6, 3])  # ResNet50 has more layers in total\n",
        "    elif model == 'resnet101':\n",
        "        return ResNet([3, 4, 23, 3])  # ResNet101 is even deeper\n",
        "    elif model == 'resnet152':\n",
        "        return ResNet([3, 8, 36, 3])  # ResNet152 is the deepest variant\n",
        "\n",
        "resnet = modeltype('resnet18').to(device)\n"
      ],
      "metadata": {
        "id": "2vTi2TGUCS9I"
      },
      "execution_count": 29,
      "outputs": []
    },
    {
      "cell_type": "code",
      "source": [
        "criterion = nn.CrossEntropyLoss()\n",
        "optimizer = optim.Adam(resnet.parameters(), lr=1e-3)\n",
        "scheduler = torch.optim.lr_scheduler.CosineAnnealingLR(optimizer, 5, eta_min=0)"
      ],
      "metadata": {
        "id": "Nc4FyVTJxi6K"
      },
      "execution_count": 30,
      "outputs": []
    },
    {
      "cell_type": "code",
      "source": [
        "train_loss_list = []\n",
        "val_loss_list = []\n",
        "n = len(trainloader) # 매 에폭마다 평균 loss 값 계산 위해서\n",
        "early_stopping_loss = 1 # 가장 낮은 loss 함수 값에 해당하는 모델 저장 위해서, 초기 기준 1로 설정\n",
        "#배치 데이터 받아서 학습 진행\n",
        "for epoch in range(121):\n",
        "    running_loss = 0\n",
        "    for data in trainloader:\n",
        "        inputs, labels = data[0].to(device), data[1].to(device)\n",
        "        optimizer.zero_grad()\n",
        "        outputs = resnet(inputs)\n",
        "        loss= criterion(outputs, labels)\n",
        "        loss.backward()\n",
        "        optimizer.step()\n",
        "\n",
        "        running_loss += loss.item()\n",
        "\n",
        "    #배치 완료할 때 마다 평균 loss 값 계산\n",
        "    train_loss = running_loss / n\n",
        "    train_loss_list.append(train_loss)\n",
        "    val_loss = validation_loss(valloader)\n",
        "    val_loss_list.append(val_loss)\n",
        "\n",
        "    print('[%d] train loss : %.3f, validation loss : %.3f' %(epoch +1, train_loss, val_loss))\n",
        "\n",
        "    #현재 val 에서 loss 값이 기준보다 작으면 모델 저장 (train, val의 loss 함수 값과 에폭)\n",
        "    if val_loss < early_stopping_loss:\n",
        "        # torch.save(resnet.state_dict(), PATH)\n",
        "        early_stopping_train_loss = train_loss\n",
        "        early_stopping_val_loss = val_loss\n",
        "        early_stopping_epoch = epoch\n",
        "\n",
        "#학습 끝나면 조기종료한 에폭과 손실함수 값 출력\n",
        "print('Final pretrained model >> [%d] train loss: %.3f , validation loss: %.3f' %(early_stopping_epoch + 1,\n",
        "                                                        early_stopping_train_loss, early_stopping_val_loss))\n"
      ],
      "metadata": {
        "colab": {
          "base_uri": "https://localhost:8080/"
        },
        "id": "TYxU8pClxjNj",
        "outputId": "b630a7ed-89a7-4fc1-ece3-5d042bf2bd33"
      },
      "execution_count": 22,
      "outputs": [
        {
          "output_type": "stream",
          "name": "stdout",
          "text": [
            "[1] train loss : 1.562, validation loss : 1.273\n",
            "[2] train loss : 1.173, validation loss : 1.133\n",
            "[3] train loss : 0.992, validation loss : 1.040\n",
            "[4] train loss : 0.856, validation loss : 0.898\n",
            "[5] train loss : 0.753, validation loss : 0.717\n",
            "[6] train loss : 0.672, validation loss : 0.678\n",
            "[7] train loss : 0.612, validation loss : 0.601\n",
            "[8] train loss : 0.560, validation loss : 0.629\n",
            "[9] train loss : 0.523, validation loss : 0.580\n",
            "[10] train loss : 0.487, validation loss : 0.537\n",
            "[11] train loss : 0.456, validation loss : 0.597\n",
            "[12] train loss : 0.430, validation loss : 0.477\n",
            "[13] train loss : 0.407, validation loss : 0.508\n",
            "[14] train loss : 0.378, validation loss : 0.490\n",
            "[15] train loss : 0.356, validation loss : 0.441\n",
            "[16] train loss : 0.341, validation loss : 0.410\n",
            "[17] train loss : 0.323, validation loss : 0.435\n",
            "[18] train loss : 0.308, validation loss : 0.448\n",
            "[19] train loss : 0.290, validation loss : 0.417\n",
            "[20] train loss : 0.275, validation loss : 0.405\n",
            "[21] train loss : 0.264, validation loss : 0.373\n",
            "[22] train loss : 0.251, validation loss : 0.377\n",
            "[23] train loss : 0.243, validation loss : 0.367\n",
            "[24] train loss : 0.231, validation loss : 0.381\n",
            "[25] train loss : 0.221, validation loss : 0.400\n",
            "[26] train loss : 0.209, validation loss : 0.389\n",
            "[27] train loss : 0.202, validation loss : 0.374\n",
            "[28] train loss : 0.191, validation loss : 0.383\n",
            "[29] train loss : 0.181, validation loss : 0.381\n",
            "[30] train loss : 0.177, validation loss : 0.382\n",
            "[31] train loss : 0.169, validation loss : 0.361\n",
            "[32] train loss : 0.160, validation loss : 0.383\n",
            "[33] train loss : 0.155, validation loss : 0.386\n",
            "[34] train loss : 0.146, validation loss : 0.377\n",
            "[35] train loss : 0.140, validation loss : 0.357\n",
            "[36] train loss : 0.137, validation loss : 0.356\n",
            "[37] train loss : 0.132, validation loss : 0.364\n",
            "[38] train loss : 0.130, validation loss : 0.365\n",
            "[39] train loss : 0.123, validation loss : 0.391\n",
            "[40] train loss : 0.122, validation loss : 0.353\n",
            "[41] train loss : 0.116, validation loss : 0.373\n",
            "[42] train loss : 0.111, validation loss : 0.373\n",
            "[43] train loss : 0.109, validation loss : 0.399\n",
            "[44] train loss : 0.105, validation loss : 0.405\n",
            "[45] train loss : 0.100, validation loss : 0.395\n",
            "[46] train loss : 0.100, validation loss : 0.399\n",
            "[47] train loss : 0.097, validation loss : 0.379\n",
            "[48] train loss : 0.094, validation loss : 0.385\n",
            "[49] train loss : 0.087, validation loss : 0.361\n",
            "[50] train loss : 0.090, validation loss : 0.393\n",
            "[51] train loss : 0.087, validation loss : 0.366\n",
            "[52] train loss : 0.085, validation loss : 0.388\n",
            "[53] train loss : 0.080, validation loss : 0.434\n",
            "[54] train loss : 0.077, validation loss : 0.398\n",
            "[55] train loss : 0.079, validation loss : 0.395\n",
            "[56] train loss : 0.079, validation loss : 0.387\n",
            "[57] train loss : 0.073, validation loss : 0.403\n",
            "[58] train loss : 0.070, validation loss : 0.399\n",
            "[59] train loss : 0.072, validation loss : 0.408\n",
            "[60] train loss : 0.071, validation loss : 0.404\n",
            "[61] train loss : 0.068, validation loss : 0.413\n",
            "[62] train loss : 0.070, validation loss : 0.409\n",
            "[63] train loss : 0.066, validation loss : 0.384\n",
            "[64] train loss : 0.064, validation loss : 0.399\n",
            "[65] train loss : 0.063, validation loss : 0.438\n",
            "[66] train loss : 0.064, validation loss : 0.396\n",
            "[67] train loss : 0.063, validation loss : 0.387\n",
            "[68] train loss : 0.061, validation loss : 0.390\n",
            "[69] train loss : 0.057, validation loss : 0.391\n",
            "[70] train loss : 0.058, validation loss : 0.364\n",
            "[71] train loss : 0.053, validation loss : 0.397\n",
            "[72] train loss : 0.054, validation loss : 0.397\n",
            "[73] train loss : 0.054, validation loss : 0.474\n",
            "[74] train loss : 0.053, validation loss : 0.450\n",
            "[75] train loss : 0.057, validation loss : 0.421\n",
            "[76] train loss : 0.053, validation loss : 0.383\n",
            "[77] train loss : 0.050, validation loss : 0.407\n",
            "[78] train loss : 0.051, validation loss : 0.413\n",
            "[79] train loss : 0.050, validation loss : 0.445\n",
            "[80] train loss : 0.045, validation loss : 0.425\n",
            "[81] train loss : 0.049, validation loss : 0.440\n",
            "[82] train loss : 0.050, validation loss : 0.404\n",
            "[83] train loss : 0.046, validation loss : 0.394\n",
            "[84] train loss : 0.046, validation loss : 0.422\n",
            "[85] train loss : 0.047, validation loss : 0.415\n",
            "[86] train loss : 0.044, validation loss : 0.429\n",
            "[87] train loss : 0.048, validation loss : 0.410\n",
            "[88] train loss : 0.041, validation loss : 0.414\n",
            "[89] train loss : 0.041, validation loss : 0.431\n",
            "[90] train loss : 0.044, validation loss : 0.381\n",
            "[91] train loss : 0.042, validation loss : 0.448\n",
            "[92] train loss : 0.043, validation loss : 0.393\n",
            "[93] train loss : 0.038, validation loss : 0.422\n",
            "[94] train loss : 0.041, validation loss : 0.417\n",
            "[95] train loss : 0.039, validation loss : 0.392\n",
            "[96] train loss : 0.039, validation loss : 0.414\n",
            "[97] train loss : 0.037, validation loss : 0.438\n",
            "[98] train loss : 0.037, validation loss : 0.457\n",
            "[99] train loss : 0.040, validation loss : 0.416\n",
            "[100] train loss : 0.041, validation loss : 0.409\n",
            "[101] train loss : 0.038, validation loss : 0.422\n",
            "[102] train loss : 0.039, validation loss : 0.417\n",
            "[103] train loss : 0.035, validation loss : 0.417\n",
            "[104] train loss : 0.034, validation loss : 0.446\n",
            "[105] train loss : 0.036, validation loss : 0.421\n",
            "[106] train loss : 0.036, validation loss : 0.413\n",
            "[107] train loss : 0.036, validation loss : 0.445\n",
            "[108] train loss : 0.035, validation loss : 0.415\n",
            "[109] train loss : 0.036, validation loss : 0.406\n",
            "[110] train loss : 0.036, validation loss : 0.422\n",
            "[111] train loss : 0.032, validation loss : 0.460\n",
            "[112] train loss : 0.032, validation loss : 0.429\n",
            "[113] train loss : 0.033, validation loss : 0.450\n",
            "[114] train loss : 0.033, validation loss : 0.416\n",
            "[115] train loss : 0.031, validation loss : 0.442\n",
            "[116] train loss : 0.034, validation loss : 0.455\n",
            "[117] train loss : 0.031, validation loss : 0.432\n",
            "[118] train loss : 0.032, validation loss : 0.421\n",
            "[119] train loss : 0.030, validation loss : 0.446\n",
            "[120] train loss : 0.031, validation loss : 0.413\n",
            "[121] train loss : 0.029, validation loss : 0.426\n",
            "Final pretrained model >> [121] train loss: 0.029 , validation loss: 0.426\n"
          ]
        }
      ]
    },
    {
      "cell_type": "code",
      "source": [
        "#loss plot 그리기\n",
        "plt.plot(train_loss_list)\n",
        "plt.plot(val_loss_list)\n",
        "plt.legend(['train','validation'])\n",
        "plt.title(\"Loss\")\n",
        "plt.xlabel(\"epoch\")\n",
        "plt.show()\n",
        "\n",
        "plt.plot(train_loss_list[:15])\n",
        "plt.plot(val_loss_list[:15])\n",
        "plt.legend(['train','validation'])\n",
        "plt.title(\"Loss\")\n",
        "plt.xlabel(\"epoch\")\n",
        "plt.show()"
      ],
      "metadata": {
        "colab": {
          "base_uri": "https://localhost:8080/",
          "height": 927
        },
        "id": "0uFRKvvMxnUq",
        "outputId": "5202137c-9435-4c91-99f5-e67d5b9c51bb"
      },
      "execution_count": 23,
      "outputs": [
        {
          "output_type": "display_data",
          "data": {
            "text/plain": [
              "<Figure size 640x480 with 1 Axes>"
            ],
            "image/png": "[encoded data removed]"
          },
          "metadata": {}
        },
        {
          "output_type": "display_data",
          "data": {
            "text/plain": [
              "<Figure size 640x480 with 1 Axes>"
            ],
            "image/png": "[encoded data removed]"
          },
          "metadata": {}
        }
      ]
    },
    {
      "cell_type": "code",
      "source": [
        "\n",
        "#Test set 예측\n",
        "# 평가 데이터로 예측 실시해서 정확도 확인\n",
        "# output은 미니배치의 결과가 산출되기 때문에 for문을 통해서 test 전체의 예측값을 구한다.\n",
        "\n",
        "correct = 0\n",
        "total = 0\n",
        "with torch.no_grad():\n",
        "    resnet.eval()\n",
        "    for data in testloader:\n",
        "        images, labels = data[0].to(device), data[1].to(device)\n",
        "        outputs = resnet(images)\n",
        "        _, predicted = torch.max(outputs.data, 1)\n",
        "        total += labels.size(0) # 개수 누적(총 개수)\n",
        "        correct += (predicted == labels).sum().item() # 누적(맞으면 1, 틀리면 0으로 합산)\n",
        "\n",
        "print('Test accuracy: %.2f %%' % (100 * correct / total))"
      ],
      "metadata": {
        "colab": {
          "base_uri": "https://localhost:8080/"
        },
        "id": "cAw-RQDd-Twm",
        "outputId": "8461674f-1f5b-486b-8f31-04669776b86a"
      },
      "execution_count": 24,
      "outputs": [
        {
          "output_type": "stream",
          "name": "stdout",
          "text": [
            "Test accuracy: 91.37 %\n"
          ]
        }
      ]
    },
    {
      "cell_type": "code",
      "source": [],
      "metadata": {
        "id": "9evYzixdUrp8"
      },
      "execution_count": null,
      "outputs": []
    }
  ]
}